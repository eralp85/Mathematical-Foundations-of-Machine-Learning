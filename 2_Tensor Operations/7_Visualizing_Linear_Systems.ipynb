{
 "cells": [
  {
   "cell_type": "markdown",
   "source": [
    "# Visiualizing Linear Systems\n",
    "\n",
    "In a substitution example, the two equations in the system are:\n",
    "\n",
    "$$\n",
    "\n",
    "\\begin{align*}\n",
    "\n",
    "y &= 3x \\\\\n",
    "\n",
    "-5y + 2x &= 2\n",
    "\n",
    "\\end{align*}\n",
    "\n",
    "$$\n",
    "\n",
    "The second equation can be rewritten as:\n",
    "\n",
    "$$\n",
    "\n",
    "\\begin{align*}\n",
    "\n",
    "2y &= 2 + 5x \\\\\n",
    "\n",
    "y &=  \\frac{2+5x}{2} \\\\ \n",
    "y &= 1 + \\frac{5x}{2} \\\\\n",
    "\n",
    "\\end{align*}\n",
    "\n",
    "\n",
    "$$\n",
    "\n",
    "Solution: x, y = {2, 6}\n"
   ],
   "metadata": {
    "collapsed": false
   },
   "id": "c8a29127cd99b112"
  },
  {
   "cell_type": "code",
   "execution_count": 1,
   "outputs": [],
   "source": [
    "# Importing libraries\n",
    "\n",
    "import numpy as np\n",
    "import matplotlib.pyplot as plt\n"
   ],
   "metadata": {
    "collapsed": false,
    "ExecuteTime": {
     "end_time": "2023-10-28T12:31:30.483949200Z",
     "start_time": "2023-10-28T12:31:28.952298700Z"
    }
   },
   "id": "1c8ac85640613695"
  },
  {
   "cell_type": "code",
   "execution_count": 2,
   "outputs": [],
   "source": [
    "# Creating start, finish and n points\n",
    "\n",
    "x = np.linspace(-10, 10, 100)"
   ],
   "metadata": {
    "collapsed": false,
    "ExecuteTime": {
     "end_time": "2023-10-28T12:31:50.433902300Z",
     "start_time": "2023-10-28T12:31:50.412884500Z"
    }
   },
   "id": "9fddeb0f0956bcb5"
  },
  {
   "cell_type": "code",
   "execution_count": 3,
   "outputs": [],
   "source": [
    "y1 = 3*x"
   ],
   "metadata": {
    "collapsed": false,
    "ExecuteTime": {
     "end_time": "2023-10-28T12:32:01.111445200Z",
     "start_time": "2023-10-28T12:32:01.069420700Z"
    }
   },
   "id": "dd039e9eaaf829b1"
  },
  {
   "cell_type": "code",
   "execution_count": 4,
   "outputs": [],
   "source": [
    "y2 = 1 + 5*x/2"
   ],
   "metadata": {
    "collapsed": false,
    "ExecuteTime": {
     "end_time": "2023-10-28T12:32:12.107119800Z",
     "start_time": "2023-10-28T12:32:12.062129800Z"
    }
   },
   "id": "4893ac2f24095f9e"
  },
  {
   "cell_type": "code",
   "execution_count": 7,
   "outputs": [
    {
     "data": {
      "text/plain": "<Figure size 432x288 with 1 Axes>",
      "image/png": "[encoded data removed]"
     },
     "metadata": {
      "needs_background": "light"
     },
     "output_type": "display_data"
    }
   ],
   "source": [
    "# Plotting the lines\n",
    "\n",
    "fig, ax = plt.subplots()\n",
    "plt.xlabel('x')\n",
    "plt.ylabel('y')\n",
    "\n",
    "ax.set_xlim(0, 3)\n",
    "ax.set_ylim(0, 8)\n",
    "\n",
    "ax.plot(x, y1, color='blue')\n",
    "ax.plot(x, y2, color='red')\n",
    "\n",
    "plt.axvline(x=2, color='purple', linestyle='--')\n",
    "_ = plt.axhline(y=6, color='purple', linestyle='--')"
   ],
   "metadata": {
    "collapsed": false,
    "ExecuteTime": {
     "end_time": "2023-10-28T12:34:46.446252700Z",
     "start_time": "2023-10-28T12:34:46.303255100Z"
    }
   },
   "id": "424b3228b01fb9d7"
  },
  {
   "cell_type": "markdown",
   "source": [
    "For the elimination example we have used the following system of equations:\n",
    "\n",
    "$$\n",
    "\n",
    "\\begin{align*}\n",
    "\n",
    "2x - 3y &= 15 \\\\\n",
    "4x + 10y &= 14 \\\\\n",
    "\n",
    "\\end{align*}\n",
    "\n",
    "$$\n",
    "\n",
    "Let's find y's for both equations:\n",
    "\n",
    "For first equation: y1 = (2x)/3-5\n",
    "$$\n",
    "\n",
    "\\begin{align*}\n",
    "2x - 3y &= 15 \\\\\n",
    "-3y &= 15 - 2x ==> \\\\\n",
    "3y &= 2x - 15  ==> \\\\\n",
    "\n",
    " ==> y1 &= \\frac{2x - 15}{3} \\\\\n",
    "y1 &= \\frac{2x}{3} - 5 \\\\\n",
    "\n",
    "\\end{align*}\n",
    "\n",
    "$$\n",
    "For the second equation: y2 = (7-2x)/5\n",
    "\n",
    "$$\n",
    "\n",
    "\\begin{align*}\n",
    "4x + 10y &= 14 \\\\   \n",
    "10y &= 14 - 4x ==> \\\\\n",
    "y2 &= \\frac{14 - 4x}{10} \\\\\n",
    "y2 &= \\frac{7 - 2x}{5} \\\\\n",
    "\\end{align*}\n",
    "\n",
    "$$\n",
    "\n",
    " "
   ],
   "metadata": {
    "collapsed": false
   },
   "id": "9fb33e5fa17eef89"
  },
  {
   "cell_type": "code",
   "execution_count": 8,
   "outputs": [],
   "source": [
    "# Lets visualize the system\n",
    "\n",
    "x = np.linspace(-10, 10, 100)\n",
    "\n",
    "y1 = (2*x)/3 - 5\n",
    "y2 = (7-2*x)/5\n"
   ],
   "metadata": {
    "collapsed": false,
    "ExecuteTime": {
     "end_time": "2023-10-29T09:51:01.320921100Z",
     "start_time": "2023-10-29T09:51:01.311916300Z"
    }
   },
   "id": "e9bf9344ac505e36"
  },
  {
   "cell_type": "code",
   "execution_count": 11,
   "outputs": [
    {
     "data": {
      "text/plain": "<Figure size 432x288 with 1 Axes>",
      "image/png": "[encoded data removed]"
     },
     "metadata": {
      "needs_background": "light"
     },
     "output_type": "display_data"
    }
   ],
   "source": [
    "fig, ax = plt.subplots()\n",
    "plt.xlabel('x')\n",
    "plt.ylabel('y')\n",
    "\n",
    "#Adding x and y axes\n",
    "\n",
    "plt.axvline(x=0, color='lightgray')\n",
    "plt.axhline(y=0, color='lightgray')\n",
    "\n",
    "#Setting the limits\n",
    "ax.set_xlim(-2, 10)\n",
    "ax.set_ylim(-6, 4)\n",
    "\n",
    "#Plotting the lines\n",
    "\n",
    "ax.plot(x, y1, color='green')\n",
    "ax.plot(x, y2, color='orange')\n",
    "\n",
    "plt.axvline(x=6, color='purple', linestyle='--')\n",
    "_ = plt.axhline(y=-1, color='purple', linestyle='--')"
   ],
   "metadata": {
    "collapsed": false,
    "ExecuteTime": {
     "end_time": "2023-10-29T09:55:29.705758300Z",
     "start_time": "2023-10-29T09:55:29.513729600Z"
    }
   },
   "id": "1f69f1b7c538a729"
  },
  {
   "cell_type": "code",
   "execution_count": null,
   "outputs": [],
   "source": [],
   "metadata": {
    "collapsed": false
   },
   "id": "76c2b191e12918dc"
  }
 ],
 "metadata": {
  "kernelspec": {
   "display_name": "Python 3",
   "language": "python",
   "name": "python3"
  },
  "language_info": {
   "codemirror_mode": {
    "name": "ipython",
    "version": 2
   },
   "file_extension": ".py",
   "mimetype": "text/x-python",
   "name": "python",
   "nbconvert_exporter": "python",
   "pygments_lexer": "ipython2",
   "version": "2.7.6"
  }
 },
 "nbformat": 4,
 "nbformat_minor": 5
}
