{
 "cells": [
  {
   "cell_type": "markdown",
   "source": [
    "# DOT PRODUCT\n",
    "\n",
    "Dot product can only be carried out on vector tensors.\n",
    "\n",
    "Calculating the dot product of two vectors is one of the most common tensor operation in ML.\n",
    "\n",
    "If we have two vectors $\\mathbf{x}$ and $\\mathbf{y}$, with same length n, we can calcualte the dot product between them.\n",
    "\n",
    "We calculate the products in an element-wise fashion and then sum reductively across the products to a scalar value.\n",
    "\n",
    "In other words, the dot product is a sum of the products of the corresponding elements of each vector.\n",
    "\n",
    "$$\\mathbf{x} \\cdot \\mathbf{y} = \\sum_{i=1}^{n} x_i y_i$$\n",
    "\n",
    "The dot product is ubiquitous in deep learning, it is performed at every artificial neuron in a neural network, which may be made up pf millions of neurons."
   ],
   "metadata": {
    "collapsed": false
   },
   "id": "6ae332b294331959"
  },
  {
   "cell_type": "code",
   "execution_count": 15,
   "outputs": [],
   "source": [
    "import numpy as np\n",
    "import torch\n",
    "import tensorflow as tf\n",
    "\n",
    "x = np.array([1, 2, 3])\n",
    "y = np.array([4, 5, 6])\n",
    "y_torch = torch.tensor([4, 5, 6])\n",
    "y_tf = tf.constant([4, 5, 6])"
   ],
   "metadata": {
    "collapsed": false,
    "ExecuteTime": {
     "end_time": "2023-10-26T15:11:20.500894200Z",
     "start_time": "2023-10-26T15:11:20.304005600Z"
    }
   },
   "id": "cb1525efb72e87c8"
  },
  {
   "cell_type": "code",
   "execution_count": 10,
   "outputs": [
    {
     "data": {
      "text/plain": "array([1, 2, 3])"
     },
     "execution_count": 10,
     "metadata": {},
     "output_type": "execute_result"
    }
   ],
   "source": [
    "x"
   ],
   "metadata": {
    "collapsed": false,
    "ExecuteTime": {
     "end_time": "2023-10-26T14:19:05.374923600Z",
     "start_time": "2023-10-26T14:19:05.333925Z"
    }
   },
   "id": "aa08374850cb37c1"
  },
  {
   "cell_type": "code",
   "execution_count": 11,
   "outputs": [
    {
     "data": {
      "text/plain": "array([4, 5, 6])"
     },
     "execution_count": 11,
     "metadata": {},
     "output_type": "execute_result"
    }
   ],
   "source": [
    "y"
   ],
   "metadata": {
    "collapsed": false,
    "ExecuteTime": {
     "end_time": "2023-10-26T14:19:06.980073900Z",
     "start_time": "2023-10-26T14:19:06.963037700Z"
    }
   },
   "id": "205b9ff39628ab67"
  },
  {
   "cell_type": "code",
   "execution_count": 12,
   "outputs": [
    {
     "data": {
      "text/plain": "32"
     },
     "execution_count": 12,
     "metadata": {},
     "output_type": "execute_result"
    }
   ],
   "source": [
    "dotmanuel_x = 1*4 + 2*5 + 3*6\n",
    "dotmanuel_x"
   ],
   "metadata": {
    "collapsed": false,
    "ExecuteTime": {
     "end_time": "2023-10-26T15:10:23.042180600Z",
     "start_time": "2023-10-26T15:10:23.028111900Z"
    }
   },
   "id": "120b9072fee849d"
  },
  {
   "cell_type": "code",
   "execution_count": 14,
   "outputs": [
    {
     "data": {
      "text/plain": "32"
     },
     "execution_count": 14,
     "metadata": {},
     "output_type": "execute_result"
    }
   ],
   "source": [
    "dotnp_x = np.dot(x, y)\n",
    "dotnp_x"
   ],
   "metadata": {
    "collapsed": false,
    "ExecuteTime": {
     "end_time": "2023-10-26T15:10:44.580757900Z",
     "start_time": "2023-10-26T15:10:44.528604200Z"
    }
   },
   "id": "ad5ec62738d00902"
  },
  {
   "cell_type": "code",
   "execution_count": 17,
   "outputs": [
    {
     "data": {
      "text/plain": "tensor(32, dtype=torch.int32)"
     },
     "execution_count": 17,
     "metadata": {},
     "output_type": "execute_result"
    }
   ],
   "source": [
    "dottorch_x = torch.dot(torch.tensor(x), torch.tensor(y))\n",
    "dottorch_x"
   ],
   "metadata": {
    "collapsed": false,
    "ExecuteTime": {
     "end_time": "2023-10-26T15:11:31.545802Z",
     "start_time": "2023-10-26T15:11:31.480809300Z"
    }
   },
   "id": "f655a8e8a5be9786"
  },
  {
   "cell_type": "code",
   "execution_count": 19,
   "outputs": [
    {
     "data": {
      "text/plain": "<tf.Tensor: shape=(), dtype=int32, numpy=32>"
     },
     "execution_count": 19,
     "metadata": {},
     "output_type": "execute_result"
    }
   ],
   "source": [
    "dottf_x = tf.tensordot(tf.constant(x), tf.constant(y), axes=1)\n",
    "dottf_x"
   ],
   "metadata": {
    "collapsed": false,
    "ExecuteTime": {
     "end_time": "2023-10-26T15:11:44.440151600Z",
     "start_time": "2023-10-26T15:11:44.393160200Z"
    }
   },
   "id": "f8bdddcf9ace57ab"
  },
  {
   "cell_type": "code",
   "execution_count": null,
   "outputs": [],
   "source": [],
   "metadata": {
    "collapsed": false
   },
   "id": "441e825c15699fd8"
  }
 ],
 "metadata": {
  "kernelspec": {
   "display_name": "Python 3",
   "language": "python",
   "name": "python3"
  },
  "language_info": {
   "codemirror_mode": {
    "name": "ipython",
    "version": 2
   },
   "file_extension": ".py",
   "mimetype": "text/x-python",
   "name": "python",
   "nbconvert_exporter": "python",
   "pygments_lexer": "ipython2",
   "version": "2.7.6"
  }
 },
 "nbformat": 4,
 "nbformat_minor": 5
}
