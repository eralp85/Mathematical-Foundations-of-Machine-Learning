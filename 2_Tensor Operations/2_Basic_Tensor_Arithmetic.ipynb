{
 "cells": [
  {
   "cell_type": "markdown",
   "source": [
    "# Basic Operations and HADAMARD PRODUCT"
   ],
   "metadata": {
    "collapsed": false
   },
   "id": "5be97c8ce8404fc9"
  },
  {
   "cell_type": "code",
   "execution_count": 11,
   "id": "initial_id",
   "metadata": {
    "collapsed": true,
    "ExecuteTime": {
     "end_time": "2023-10-26T09:01:24.337164400Z",
     "start_time": "2023-10-26T09:01:24.104802600Z"
    }
   },
   "outputs": [],
   "source": [
    "import numpy as np\n",
    "import torch\n",
    "import tensorflow as tf\n",
    "\n",
    "X = np.array([[11,12],[21,22],[31,32]])\n",
    "X_pytorch = torch.tensor([[11,12],[21,22],[31,32]])\n",
    "X_tensorflow = tf.constant([[11,12],[21,22],[31,32]])"
   ]
  },
  {
   "cell_type": "markdown",
   "source": [
    "# Basic Arithmetic\n",
    "\n",
    "Applying basic arithmetic (+,-,*,/) with scalar applies operation to all elemens and the shape is preserved.\n"
   ],
   "metadata": {
    "collapsed": false
   },
   "id": "5155eea3a21c2b17"
  },
  {
   "cell_type": "code",
   "execution_count": 12,
   "outputs": [
    {
     "data": {
      "text/plain": "array([[11, 12],\n       [21, 22],\n       [31, 32]])"
     },
     "execution_count": 12,
     "metadata": {},
     "output_type": "execute_result"
    }
   ],
   "source": [
    "X"
   ],
   "metadata": {
    "collapsed": false,
    "ExecuteTime": {
     "end_time": "2023-10-26T09:01:39.115442800Z",
     "start_time": "2023-10-26T09:01:39.089472500Z"
    }
   },
   "id": "9ee0a3ea9dd4733b"
  },
  {
   "cell_type": "code",
   "execution_count": 13,
   "outputs": [
    {
     "data": {
      "text/plain": "array([[22, 24],\n       [42, 44],\n       [62, 64]])"
     },
     "execution_count": 13,
     "metadata": {},
     "output_type": "execute_result"
    }
   ],
   "source": [
    "# Multiplication with scalar value\n",
    "# Each element in X is multiplied by 2.\n",
    "\n",
    "X *2"
   ],
   "metadata": {
    "collapsed": false,
    "ExecuteTime": {
     "end_time": "2023-10-26T09:01:41.512297500Z",
     "start_time": "2023-10-26T09:01:41.491304500Z"
    }
   },
   "id": "58842ecb35a910ce"
  },
  {
   "cell_type": "code",
   "execution_count": 14,
   "outputs": [
    {
     "data": {
      "text/plain": "array([[14, 15],\n       [24, 25],\n       [34, 35]])"
     },
     "execution_count": 14,
     "metadata": {},
     "output_type": "execute_result"
    }
   ],
   "source": [
    "# Addition with Scalar\n",
    "# Each element in X is added by 3.\n",
    "\n",
    "X + 3"
   ],
   "metadata": {
    "collapsed": false,
    "ExecuteTime": {
     "end_time": "2023-10-26T09:01:44.425494200Z",
     "start_time": "2023-10-26T09:01:44.396490600Z"
    }
   },
   "id": "cefed17f71d5513"
  },
  {
   "cell_type": "code",
   "execution_count": 15,
   "outputs": [
    {
     "data": {
      "text/plain": "array([[25, 27],\n       [45, 47],\n       [65, 67]])"
     },
     "execution_count": 15,
     "metadata": {},
     "output_type": "execute_result"
    }
   ],
   "source": [
    "# We can apply multiplication and addition.\n",
    "\n",
    "X * 2 + 3"
   ],
   "metadata": {
    "collapsed": false,
    "ExecuteTime": {
     "end_time": "2023-10-26T09:01:46.057878Z",
     "start_time": "2023-10-26T09:01:46.029884400Z"
    }
   },
   "id": "7dc617071cb5e4b0"
  },
  {
   "cell_type": "markdown",
   "source": [
    "In Pytorch, we can perform the same operation. \n",
    "\n",
    "We use the tensor object, as opposed to the numpy object. The result is the same as the numpy results."
   ],
   "metadata": {
    "collapsed": false
   },
   "id": "706040cf782974de"
  },
  {
   "cell_type": "code",
   "execution_count": 10,
   "outputs": [
    {
     "data": {
      "text/plain": "tensor([[11, 12],\n        [21, 22],\n        [31, 32]])"
     },
     "execution_count": 10,
     "metadata": {},
     "output_type": "execute_result"
    }
   ],
   "source": [
    "X_pytorch"
   ],
   "metadata": {
    "collapsed": false,
    "ExecuteTime": {
     "end_time": "2023-10-26T09:00:12.057629900Z",
     "start_time": "2023-10-26T09:00:11.969676100Z"
    }
   },
   "id": "89d421833bce9315"
  },
  {
   "cell_type": "markdown",
   "source": [
    "Multiplication and addition with scalar value"
   ],
   "metadata": {
    "collapsed": false
   },
   "id": "2770dd645d26c295"
  },
  {
   "cell_type": "code",
   "execution_count": 16,
   "outputs": [
    {
     "data": {
      "text/plain": "tensor([[22, 24],\n        [42, 44],\n        [62, 64]])"
     },
     "execution_count": 16,
     "metadata": {},
     "output_type": "execute_result"
    }
   ],
   "source": [
    "# Multiplication with scalar value\n",
    "\n",
    "X_pytorch * 2"
   ],
   "metadata": {
    "collapsed": false,
    "ExecuteTime": {
     "end_time": "2023-10-26T09:02:45.640747400Z",
     "start_time": "2023-10-26T09:02:45.584734800Z"
    }
   },
   "id": "c8e938a33e33c05d"
  },
  {
   "cell_type": "markdown",
   "source": [
    "For Pytorch we can also use torch.mul(). \n",
    "\n",
    "The result is the same as the previous result."
   ],
   "metadata": {
    "collapsed": false
   },
   "id": "6c7414eeef679da5"
  },
  {
   "cell_type": "code",
   "execution_count": 23,
   "outputs": [
    {
     "data": {
      "text/plain": "tensor([[22, 24],\n        [42, 44],\n        [62, 64]])"
     },
     "execution_count": 23,
     "metadata": {},
     "output_type": "execute_result"
    }
   ],
   "source": [
    "torch.mul(X_pytorch,2)"
   ],
   "metadata": {
    "collapsed": false,
    "ExecuteTime": {
     "end_time": "2023-10-26T09:06:41.787600500Z",
     "start_time": "2023-10-26T09:06:41.733030600Z"
    }
   },
   "id": "ea0f6ea8011889bf"
  },
  {
   "cell_type": "code",
   "execution_count": 17,
   "outputs": [
    {
     "data": {
      "text/plain": "tensor([[14, 15],\n        [24, 25],\n        [34, 35]])"
     },
     "execution_count": 17,
     "metadata": {},
     "output_type": "execute_result"
    }
   ],
   "source": [
    "# Addition with scalar value\n",
    "\n",
    "X_pytorch + 3"
   ],
   "metadata": {
    "collapsed": false,
    "ExecuteTime": {
     "end_time": "2023-10-26T09:02:49.709093200Z",
     "start_time": "2023-10-26T09:02:49.652537900Z"
    }
   },
   "id": "28301a5c6a071184"
  },
  {
   "cell_type": "markdown",
   "source": [
    "For Pytorch we can also use torch.add().\n",
    "\n",
    "The result is the same as the previous result."
   ],
   "metadata": {
    "collapsed": false
   },
   "id": "81a1f21b6adf87d2"
  },
  {
   "cell_type": "code",
   "execution_count": 24,
   "outputs": [
    {
     "data": {
      "text/plain": "tensor([[14, 15],\n        [24, 25],\n        [34, 35]])"
     },
     "execution_count": 24,
     "metadata": {},
     "output_type": "execute_result"
    }
   ],
   "source": [
    "torch.add(X_pytorch,3)"
   ],
   "metadata": {
    "collapsed": false,
    "ExecuteTime": {
     "end_time": "2023-10-26T09:07:07.006258800Z",
     "start_time": "2023-10-26T09:07:06.991249700Z"
    }
   },
   "id": "e810bf16016a12cb"
  },
  {
   "cell_type": "code",
   "execution_count": 18,
   "outputs": [
    {
     "data": {
      "text/plain": "tensor([[25, 27],\n        [45, 47],\n        [65, 67]])"
     },
     "execution_count": 18,
     "metadata": {},
     "output_type": "execute_result"
    }
   ],
   "source": [
    "# We can apply multiplication and addition.\n",
    "\n",
    "X_pytorch * 2 + 3"
   ],
   "metadata": {
    "collapsed": false,
    "ExecuteTime": {
     "end_time": "2023-10-26T09:02:54.876538100Z",
     "start_time": "2023-10-26T09:02:54.812516900Z"
    }
   },
   "id": "2d38d07cc1641e79"
  },
  {
   "cell_type": "code",
   "execution_count": 26,
   "outputs": [
    {
     "data": {
      "text/plain": "tensor([[25, 27],\n        [45, 47],\n        [65, 67]])"
     },
     "execution_count": 26,
     "metadata": {},
     "output_type": "execute_result"
    }
   ],
   "source": [
    "# We can use torch.mult() to multiply each element by 2 and then use torch.add() to add 3.\n",
    "\n",
    "# We will get the same result.\n",
    "\n",
    "torch.add(torch.mul(X_pytorch,2),3)\n"
   ],
   "metadata": {
    "collapsed": false,
    "ExecuteTime": {
     "end_time": "2023-10-26T09:09:10.500005300Z",
     "start_time": "2023-10-26T09:09:10.466023Z"
    }
   },
   "id": "d0cd4facb531ad90"
  },
  {
   "cell_type": "markdown",
   "source": [
    "In TensorFlow, we can perform the same operation.\n",
    "\n",
    "We use the tensor object, as opposed to the numpy object. The result is the same as the numpy results."
   ],
   "metadata": {
    "collapsed": false
   },
   "id": "9ca75a083ff7dc53"
  },
  {
   "cell_type": "code",
   "execution_count": 19,
   "outputs": [
    {
     "data": {
      "text/plain": "<tf.Tensor: shape=(3, 2), dtype=int32, numpy=\narray([[11, 12],\n       [21, 22],\n       [31, 32]])>"
     },
     "execution_count": 19,
     "metadata": {},
     "output_type": "execute_result"
    }
   ],
   "source": [
    "X_tensorflow"
   ],
   "metadata": {
    "collapsed": false,
    "ExecuteTime": {
     "end_time": "2023-10-26T09:04:31.235135Z",
     "start_time": "2023-10-26T09:04:31.170217200Z"
    }
   },
   "id": "359a28d2a6d90dd5"
  },
  {
   "cell_type": "code",
   "execution_count": 20,
   "outputs": [
    {
     "data": {
      "text/plain": "<tf.Tensor: shape=(3, 2), dtype=int32, numpy=\narray([[22, 24],\n       [42, 44],\n       [62, 64]])>"
     },
     "execution_count": 20,
     "metadata": {},
     "output_type": "execute_result"
    }
   ],
   "source": [
    "# Multiplication with scalar value.\n",
    "\n",
    "X_tensorflow * 2"
   ],
   "metadata": {
    "collapsed": false,
    "ExecuteTime": {
     "end_time": "2023-10-26T09:04:36.084125200Z",
     "start_time": "2023-10-26T09:04:35.988337600Z"
    }
   },
   "id": "fe0a9973d1039721"
  },
  {
   "cell_type": "code",
   "execution_count": 27,
   "outputs": [
    {
     "data": {
      "text/plain": "<tf.Tensor: shape=(3, 2), dtype=int32, numpy=\narray([[22, 24],\n       [42, 44],\n       [62, 64]])>"
     },
     "execution_count": 27,
     "metadata": {},
     "output_type": "execute_result"
    }
   ],
   "source": [
    "# We can use tf.multiply() to multiply each element by 2.\n",
    "\n",
    "# We will get the same result.\n",
    "\n",
    "tf.multiply(X_tensorflow,2)"
   ],
   "metadata": {
    "collapsed": false,
    "ExecuteTime": {
     "end_time": "2023-10-26T09:09:27.201771700Z",
     "start_time": "2023-10-26T09:09:27.158759800Z"
    }
   },
   "id": "1f9f006591c0ed07"
  },
  {
   "cell_type": "code",
   "execution_count": 21,
   "outputs": [
    {
     "data": {
      "text/plain": "<tf.Tensor: shape=(3, 2), dtype=int32, numpy=\narray([[14, 15],\n       [24, 25],\n       [34, 35]])>"
     },
     "execution_count": 21,
     "metadata": {},
     "output_type": "execute_result"
    }
   ],
   "source": [
    "# Addition with scalar value.\n",
    "\n",
    "X_tensorflow + 3"
   ],
   "metadata": {
    "collapsed": false,
    "ExecuteTime": {
     "end_time": "2023-10-26T09:04:40.201350600Z",
     "start_time": "2023-10-26T09:04:40.160328900Z"
    }
   },
   "id": "20ea68115dc3d423"
  },
  {
   "cell_type": "code",
   "execution_count": 28,
   "outputs": [
    {
     "data": {
      "text/plain": "<tf.Tensor: shape=(3, 2), dtype=int32, numpy=\narray([[14, 15],\n       [24, 25],\n       [34, 35]])>"
     },
     "execution_count": 28,
     "metadata": {},
     "output_type": "execute_result"
    }
   ],
   "source": [
    "# We can use tf.add() to add 3 to each element.\n",
    "\n",
    "# We will get the same result.\n",
    "\n",
    "tf.add(X_tensorflow,3)"
   ],
   "metadata": {
    "collapsed": false,
    "ExecuteTime": {
     "end_time": "2023-10-26T09:09:52.836108Z",
     "start_time": "2023-10-26T09:09:52.817111700Z"
    }
   },
   "id": "93ac96de843edc13"
  },
  {
   "cell_type": "code",
   "execution_count": 22,
   "outputs": [
    {
     "data": {
      "text/plain": "<tf.Tensor: shape=(3, 2), dtype=int32, numpy=\narray([[25, 27],\n       [45, 47],\n       [65, 67]])>"
     },
     "execution_count": 22,
     "metadata": {},
     "output_type": "execute_result"
    }
   ],
   "source": [
    "# We can apply multiplication and addition.\n",
    "\n",
    "X_tensorflow * 2 + 3"
   ],
   "metadata": {
    "collapsed": false,
    "ExecuteTime": {
     "end_time": "2023-10-26T09:04:44.669158800Z",
     "start_time": "2023-10-26T09:04:44.608166100Z"
    }
   },
   "id": "8bcd952827d92942"
  },
  {
   "cell_type": "code",
   "execution_count": 29,
   "outputs": [
    {
     "data": {
      "text/plain": "<tf.Tensor: shape=(3, 2), dtype=int32, numpy=\narray([[25, 27],\n       [45, 47],\n       [65, 67]])>"
     },
     "execution_count": 29,
     "metadata": {},
     "output_type": "execute_result"
    }
   ],
   "source": [
    "# We can use tf.multiply() to multiply each element by 2 and then use tf.add() to add 3.\n",
    "\n",
    "# We will get the same result.\n",
    "\n",
    "tf.add(tf.multiply(X_tensorflow,2),3)"
   ],
   "metadata": {
    "collapsed": false,
    "ExecuteTime": {
     "end_time": "2023-10-26T09:10:08.716400300Z",
     "start_time": "2023-10-26T09:10:08.670406300Z"
    }
   },
   "id": "56b5adc54f7d1897"
  },
  {
   "cell_type": "markdown",
   "source": [
    "# Hadamard Product (Element wise product)\n",
    "\n",
    "The hadamard product is the element wise product of two tensors.\n",
    "\n",
    "We can apply the hadamard product between two tensors of the same shape.\n",
    "\n",
    "In other words, if two tensors have the same size, operations are often applied element-wise.\n",
    "\n",
    "The hadamard product is the default multiplication for torch tensors and numpy arrays.\n",
    "\n",
    "This is not matrix multiplication, it is element wise multiplication.\n",
    "\n"
   ],
   "metadata": {
    "collapsed": false
   },
   "id": "12ab02cb52a8294c"
  },
  {
   "cell_type": "code",
   "execution_count": 31,
   "outputs": [
    {
     "data": {
      "text/plain": "array([[21, 22],\n       [31, 32],\n       [41, 42]])"
     },
     "execution_count": 31,
     "metadata": {},
     "output_type": "execute_result"
    }
   ],
   "source": [
    "# Let's define A\n",
    "\n",
    "A = X + 10\n",
    "A"
   ],
   "metadata": {
    "collapsed": false,
    "ExecuteTime": {
     "end_time": "2023-10-26T09:43:40.478695900Z",
     "start_time": "2023-10-26T09:43:40.462696800Z"
    }
   },
   "id": "f725e7bd925f2c67"
  },
  {
   "cell_type": "code",
   "execution_count": 32,
   "outputs": [
    {
     "data": {
      "text/plain": "array([[32, 34],\n       [52, 54],\n       [72, 74]])"
     },
     "execution_count": 32,
     "metadata": {},
     "output_type": "execute_result"
    }
   ],
   "source": [
    "A + X"
   ],
   "metadata": {
    "collapsed": false,
    "ExecuteTime": {
     "end_time": "2023-10-26T09:43:47.781247Z",
     "start_time": "2023-10-26T09:43:47.739251700Z"
    }
   },
   "id": "b15c01e1a420b71f"
  },
  {
   "cell_type": "code",
   "execution_count": 33,
   "outputs": [
    {
     "data": {
      "text/plain": "array([[ 231,  264],\n       [ 651,  704],\n       [1271, 1344]])"
     },
     "execution_count": 33,
     "metadata": {},
     "output_type": "execute_result"
    }
   ],
   "source": [
    "A * X"
   ],
   "metadata": {
    "collapsed": false,
    "ExecuteTime": {
     "end_time": "2023-10-26T09:44:13.827187Z",
     "start_time": "2023-10-26T09:44:13.751193900Z"
    }
   },
   "id": "7d05c693452f0677"
  },
  {
   "cell_type": "markdown",
   "source": [
    "For PyTorch"
   ],
   "metadata": {
    "collapsed": false
   },
   "id": "1fc016f3442489c7"
  },
  {
   "cell_type": "code",
   "execution_count": 34,
   "outputs": [
    {
     "data": {
      "text/plain": "tensor([[21, 22],\n        [31, 32],\n        [41, 42]])"
     },
     "execution_count": 34,
     "metadata": {},
     "output_type": "execute_result"
    }
   ],
   "source": [
    "A_pytorch = X_pytorch + 10\n",
    "A_pytorch"
   ],
   "metadata": {
    "collapsed": false,
    "ExecuteTime": {
     "end_time": "2023-10-26T09:45:07.962945800Z",
     "start_time": "2023-10-26T09:45:07.934952600Z"
    }
   },
   "id": "408bbaebe3bc836c"
  },
  {
   "cell_type": "code",
   "execution_count": 35,
   "outputs": [
    {
     "data": {
      "text/plain": "tensor([[32, 34],\n        [52, 54],\n        [72, 74]])"
     },
     "execution_count": 35,
     "metadata": {},
     "output_type": "execute_result"
    }
   ],
   "source": [
    "A_pytorch + X_pytorch"
   ],
   "metadata": {
    "collapsed": false,
    "ExecuteTime": {
     "end_time": "2023-10-26T09:45:13.144120700Z",
     "start_time": "2023-10-26T09:45:13.060815Z"
    }
   },
   "id": "849d4a6f2a2c7f23"
  },
  {
   "cell_type": "code",
   "execution_count": 36,
   "outputs": [
    {
     "data": {
      "text/plain": "tensor([[ 231,  264],\n        [ 651,  704],\n        [1271, 1344]])"
     },
     "execution_count": 36,
     "metadata": {},
     "output_type": "execute_result"
    }
   ],
   "source": [
    "A_pytorch * X_pytorch"
   ],
   "metadata": {
    "collapsed": false,
    "ExecuteTime": {
     "end_time": "2023-10-26T09:45:15.363342600Z",
     "start_time": "2023-10-26T09:45:15.258331Z"
    }
   },
   "id": "fbda5b5277ddbb6e"
  },
  {
   "cell_type": "markdown",
   "source": [
    "For TensorFlow\n"
   ],
   "metadata": {
    "collapsed": false
   },
   "id": "b3e542d34d987f92"
  },
  {
   "cell_type": "code",
   "execution_count": 38,
   "outputs": [
    {
     "data": {
      "text/plain": "<tf.Tensor: shape=(3, 2), dtype=int32, numpy=\narray([[21, 22],\n       [31, 32],\n       [41, 42]])>"
     },
     "execution_count": 38,
     "metadata": {},
     "output_type": "execute_result"
    }
   ],
   "source": [
    "A_tensorflow = X_tensorflow + 10\n",
    "A_tensorflow"
   ],
   "metadata": {
    "collapsed": false,
    "ExecuteTime": {
     "end_time": "2023-10-26T09:45:48.388373Z",
     "start_time": "2023-10-26T09:45:48.335691Z"
    }
   },
   "id": "1ac930a2fc8a71cd"
  },
  {
   "cell_type": "code",
   "execution_count": 39,
   "outputs": [
    {
     "data": {
      "text/plain": "<tf.Tensor: shape=(3, 2), dtype=int32, numpy=\narray([[32, 34],\n       [52, 54],\n       [72, 74]])>"
     },
     "execution_count": 39,
     "metadata": {},
     "output_type": "execute_result"
    }
   ],
   "source": [
    "A_tensorflow + X_tensorflow"
   ],
   "metadata": {
    "collapsed": false,
    "ExecuteTime": {
     "end_time": "2023-10-26T09:45:57.045567400Z",
     "start_time": "2023-10-26T09:45:56.963559600Z"
    }
   },
   "id": "60a20cdef17eaa69"
  },
  {
   "cell_type": "code",
   "execution_count": 40,
   "outputs": [
    {
     "data": {
      "text/plain": "<tf.Tensor: shape=(3, 2), dtype=int32, numpy=\narray([[ 231,  264],\n       [ 651,  704],\n       [1271, 1344]])>"
     },
     "execution_count": 40,
     "metadata": {},
     "output_type": "execute_result"
    }
   ],
   "source": [
    "A_tensorflow * X_tensorflow"
   ],
   "metadata": {
    "collapsed": false,
    "ExecuteTime": {
     "end_time": "2023-10-26T09:45:58.870131Z",
     "start_time": "2023-10-26T09:45:58.825126Z"
    }
   },
   "id": "1b4ef754b5cc6cc2"
  },
  {
   "cell_type": "markdown",
   "source": [
    "We can apply the hadamard product between two tensors of the same shape.\n",
    "\n",
    "In other words, if two tensors have the same size, operations are often applied element-wise."
   ],
   "metadata": {
    "collapsed": false
   },
   "id": "f9feba7aa396c62e"
  },
  {
   "cell_type": "code",
   "execution_count": null,
   "outputs": [],
   "source": [],
   "metadata": {
    "collapsed": false
   },
   "id": "418ef4000b75f326"
  }
 ],
 "metadata": {
  "kernelspec": {
   "display_name": "Python 3",
   "language": "python",
   "name": "python3"
  },
  "language_info": {
   "codemirror_mode": {
    "name": "ipython",
    "version": 2
   },
   "file_extension": ".py",
   "mimetype": "text/x-python",
   "name": "python",
   "nbconvert_exporter": "python",
   "pygments_lexer": "ipython2",
   "version": "2.7.6"
  }
 },
 "nbformat": 4,
 "nbformat_minor": 5
}
