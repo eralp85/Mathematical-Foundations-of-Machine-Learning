{
 "cells": [
  {
   "cell_type": "markdown",
   "source": [
    "# TENSOR TRANSPOSITION\n",
    "\n",
    "The easiest tensors to transpose is a zero dimentional tensor, which is a scalar. A scalar is a tensor with no axes. The transpose of a scalar is itself.\n",
    "\n",
    "Transpose of scalar is itself: $x^T = x$\n",
    "\n",
    "Transpose of a vector converts a row vector to a column vector and vice versa.\n",
    "\n",
    "Matrix transpose is a generalization of scalar and vector transposition.\n",
    "\n",
    " In matrix tranpose, the rows of the input matrix becomes the columns of the output matrix and vice versa.  \n",
    " \n",
    "  - We flip of axes over main diagonal.\n",
    " \n",
    "$$ X_{ij}^T = X_{ji}$$\n",
    "\n",
    "* Matrix of 3 rows and 2 columns transposed to a matrix of 2 rows and 3 columns.\n",
    "\n",
    "\n",
    "$$ \n",
    "\n",
    "\\begin{bmatrix}\n",
    "    x_1,_1 & x_1,_2 \\\\\n",
    "    x_2,_1 & x_2,_2 \\\\\n",
    "    x_3,_1 & x_3,_2 \\\\\n",
    "\\end{bmatrix}^T =\n",
    "\n",
    "\\begin{bmatrix}\n",
    "    x_1,_1 & x_2,_1 & x_3,_1 \\\\\n",
    "    x_1,_2 & x_2,_2 & x_3,_2 \\\\\n",
    "\\end{bmatrix}\n",
    "$$\n",
    "\n",
    "$$ \n",
    "\n",
    "\\begin{bmatrix}\n",
    "    11 & 12 \\\\\n",
    "    21 & 22 \\\\\n",
    "    31 & 32 \\\\\n",
    "\\end{bmatrix}^T =\n",
    "\n",
    "\\begin{bmatrix}\n",
    "    11 & 21 & 31 \\\\\n",
    "    12 & 22 & 32 \\\\\n",
    "    \n",
    "\\end{bmatrix}\n",
    "$$\n",
    "\n"
   ],
   "metadata": {
    "collapsed": false
   },
   "id": "cd21b884d81cf56a"
  },
  {
   "cell_type": "code",
   "execution_count": 6,
   "outputs": [
    {
     "data": {
      "text/plain": "array([[11, 12],\n       [21, 22],\n       [31, 32]])"
     },
     "execution_count": 6,
     "metadata": {},
     "output_type": "execute_result"
    }
   ],
   "source": [
    "import numpy as np\n",
    "import torch\n",
    "import tensorflow as tf\n",
    "\n",
    "X= np.array([[11,12],[21,22],[31,32]])\n",
    "X"
   ],
   "metadata": {
    "collapsed": false,
    "ExecuteTime": {
     "end_time": "2023-10-26T08:34:21.071728900Z",
     "start_time": "2023-10-26T08:34:21.049734100Z"
    }
   },
   "id": "34d9f0c0203e241c"
  },
  {
   "cell_type": "code",
   "execution_count": 8,
   "outputs": [
    {
     "data": {
      "text/plain": "array([[11, 21, 31],\n       [12, 22, 32]])"
     },
     "execution_count": 8,
     "metadata": {},
     "output_type": "execute_result"
    }
   ],
   "source": [
    "# numpy transpose\n",
    "\n",
    "X_t = X.T\n",
    "X_t"
   ],
   "metadata": {
    "collapsed": false,
    "ExecuteTime": {
     "end_time": "2023-10-26T08:34:41.842602800Z",
     "start_time": "2023-10-26T08:34:41.805570800Z"
    }
   },
   "id": "4cefa4cb4e6c737"
  },
  {
   "cell_type": "code",
   "execution_count": 10,
   "outputs": [
    {
     "data": {
      "text/plain": "array([[11, 21, 31],\n       [12, 22, 32]])"
     },
     "execution_count": 10,
     "metadata": {},
     "output_type": "execute_result"
    }
   ],
   "source": [
    "# torch transpose\n",
    "\n",
    "X_torchtranspose = X.T\n",
    "X_torchtranspose"
   ],
   "metadata": {
    "collapsed": false,
    "ExecuteTime": {
     "end_time": "2023-10-26T08:35:20.045912700Z",
     "start_time": "2023-10-26T08:35:20.010916300Z"
    }
   },
   "id": "96ed1b0445267370"
  },
  {
   "cell_type": "code",
   "execution_count": 11,
   "outputs": [
    {
     "data": {
      "text/plain": "<tf.Tensor: shape=(2, 3), dtype=int32, numpy=\narray([[11, 21, 31],\n       [12, 22, 32]])>"
     },
     "execution_count": 11,
     "metadata": {},
     "output_type": "execute_result"
    }
   ],
   "source": [
    "X_tensorTranspose = tf.transpose(X)\n",
    "X_tensorTranspose"
   ],
   "metadata": {
    "collapsed": false,
    "ExecuteTime": {
     "end_time": "2023-10-26T08:36:01.243932200Z",
     "start_time": "2023-10-26T08:36:01.221940200Z"
    }
   },
   "id": "159864970d07a437"
  },
  {
   "cell_type": "code",
   "execution_count": null,
   "outputs": [],
   "source": [],
   "metadata": {
    "collapsed": false
   },
   "id": "68a1fb8b413b6294"
  }
 ],
 "metadata": {
  "kernelspec": {
   "display_name": "Python 3",
   "language": "python",
   "name": "python3"
  },
  "language_info": {
   "codemirror_mode": {
    "name": "ipython",
    "version": 2
   },
   "file_extension": ".py",
   "mimetype": "text/x-python",
   "name": "python",
   "nbconvert_exporter": "python",
   "pygments_lexer": "ipython2",
   "version": "2.7.6"
  }
 },
 "nbformat": 4,
 "nbformat_minor": 5
}
