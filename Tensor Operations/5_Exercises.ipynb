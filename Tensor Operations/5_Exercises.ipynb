{
 "cells": [
  {
   "cell_type": "code",
   "execution_count": 4,
   "outputs": [],
   "source": [
    "import numpy as np\n",
    "import pandas as pd\n",
    "import torch\n",
    "import tensorflow as tf"
   ],
   "metadata": {
    "collapsed": false,
    "ExecuteTime": {
     "end_time": "2023-10-28T11:13:08.321835500Z",
     "start_time": "2023-10-28T11:12:55.681560500Z"
    }
   },
   "id": "cbc9212e74664783"
  },
  {
   "cell_type": "markdown",
   "source": [
    "# EXERCISES\n",
    "\n",
    "What is the transpose of y?"
   ],
   "metadata": {
    "collapsed": false
   },
   "id": "cbec60b32a20c5bd"
  },
  {
   "cell_type": "code",
   "execution_count": 5,
   "outputs": [
    {
     "data": {
      "text/plain": "array([[ 42,   4,   7,  99],\n       [-99,  -3,  17,  22]])"
     },
     "execution_count": 5,
     "metadata": {},
     "output_type": "execute_result"
    }
   ],
   "source": [
    "y = np.array([[42, 4, 7, 99], [-99, -3, 17, 22]])\n",
    "y"
   ],
   "metadata": {
    "collapsed": false,
    "ExecuteTime": {
     "end_time": "2023-10-28T11:13:08.463904300Z",
     "start_time": "2023-10-28T11:13:08.327854100Z"
    }
   },
   "id": "897d1abc9b9287f5"
  },
  {
   "cell_type": "code",
   "execution_count": 6,
   "outputs": [
    {
     "data": {
      "text/plain": "tensor([[ 42,   4,   7,  99],\n        [-99,  -3,  17,  22]])"
     },
     "execution_count": 6,
     "metadata": {},
     "output_type": "execute_result"
    }
   ],
   "source": [
    "y_ptorch= torch.tensor([[42, 4, 7, 99], [-99, -3, 17, 22]])\n",
    "y_ptorch"
   ],
   "metadata": {
    "collapsed": false,
    "ExecuteTime": {
     "end_time": "2023-10-28T11:13:46.876170100Z",
     "start_time": "2023-10-28T11:13:46.826184300Z"
    }
   },
   "id": "957e9e83c5ad8e63"
  },
  {
   "cell_type": "code",
   "execution_count": 7,
   "outputs": [
    {
     "data": {
      "text/plain": "<tf.Tensor: shape=(2, 4), dtype=int32, numpy=\narray([[ 42,   4,   7,  99],\n       [-99,  -3,  17,  22]])>"
     },
     "execution_count": 7,
     "metadata": {},
     "output_type": "execute_result"
    }
   ],
   "source": [
    "y_tf= tf.constant([[42, 4, 7, 99], [-99, -3, 17, 22]])\n",
    "y_tf"
   ],
   "metadata": {
    "collapsed": false,
    "ExecuteTime": {
     "end_time": "2023-10-28T11:13:53.675326300Z",
     "start_time": "2023-10-28T11:13:53.656324800Z"
    }
   },
   "id": "c570fed65685302b"
  },
  {
   "cell_type": "code",
   "execution_count": 8,
   "outputs": [
    {
     "data": {
      "text/plain": "array([[ 42, -99],\n       [  4,  -3],\n       [  7,  17],\n       [ 99,  22]])"
     },
     "execution_count": 8,
     "metadata": {},
     "output_type": "execute_result"
    }
   ],
   "source": [
    "y.T"
   ],
   "metadata": {
    "collapsed": false,
    "ExecuteTime": {
     "end_time": "2023-10-28T11:14:05.534772700Z",
     "start_time": "2023-10-28T11:14:05.500250500Z"
    }
   },
   "id": "d76125e0bd68f94f"
  },
  {
   "cell_type": "code",
   "execution_count": 9,
   "outputs": [
    {
     "data": {
      "text/plain": "tensor([[ 42, -99],\n        [  4,  -3],\n        [  7,  17],\n        [ 99,  22]])"
     },
     "execution_count": 9,
     "metadata": {},
     "output_type": "execute_result"
    }
   ],
   "source": [
    "y_ptorch.T"
   ],
   "metadata": {
    "collapsed": false,
    "ExecuteTime": {
     "end_time": "2023-10-28T11:14:15.757162300Z",
     "start_time": "2023-10-28T11:14:15.703619500Z"
    }
   },
   "id": "aeed27fa501d31ef"
  },
  {
   "cell_type": "code",
   "execution_count": 10,
   "outputs": [
    {
     "data": {
      "text/plain": "<tf.Tensor: shape=(4, 2), dtype=int32, numpy=\narray([[ 42, -99],\n       [  4,  -3],\n       [  7,  17],\n       [ 99,  22]])>"
     },
     "execution_count": 10,
     "metadata": {},
     "output_type": "execute_result"
    }
   ],
   "source": [
    "tf.transpose(y_tf)"
   ],
   "metadata": {
    "collapsed": false,
    "ExecuteTime": {
     "end_time": "2023-10-28T11:14:18.350159200Z",
     "start_time": "2023-10-28T11:14:18.278622900Z"
    }
   },
   "id": "7d69be50811485e9"
  },
  {
   "cell_type": "markdown",
   "source": [
    "# What is the Hadamard product of below matrices?\n",
    "\n"
   ],
   "metadata": {
    "collapsed": false
   },
   "id": "f941d5b74d99a4b8"
  },
  {
   "cell_type": "code",
   "execution_count": 11,
   "outputs": [
    {
     "data": {
      "text/plain": "array([[-25,  70],\n       [-20,   8]])"
     },
     "execution_count": 11,
     "metadata": {},
     "output_type": "execute_result"
    }
   ],
   "source": [
    "a = np.array([[25,10], [-2, 1]])\n",
    "b = np.array([[-1, 7], [10, 8]])\n",
    "\n",
    "a * b"
   ],
   "metadata": {
    "collapsed": false,
    "ExecuteTime": {
     "end_time": "2023-10-28T11:17:27.472146800Z",
     "start_time": "2023-10-28T11:17:27.446153Z"
    }
   },
   "id": "ecdd153b80c574d1"
  },
  {
   "cell_type": "code",
   "execution_count": 12,
   "outputs": [
    {
     "data": {
      "text/plain": "tensor([[-25,  70],\n        [-20,   8]])"
     },
     "execution_count": 12,
     "metadata": {},
     "output_type": "execute_result"
    }
   ],
   "source": [
    "a_ptorch = torch.tensor([[25,10], [-2, 1]])\n",
    "b_ptorch = torch.tensor([[-1, 7], [10, 8]])\n",
    "\n",
    "a_ptorch * b_ptorch"
   ],
   "metadata": {
    "collapsed": false,
    "ExecuteTime": {
     "end_time": "2023-10-28T11:17:36.060134200Z",
     "start_time": "2023-10-28T11:17:35.969559700Z"
    }
   },
   "id": "ac5ec4862a38aa2c"
  },
  {
   "cell_type": "code",
   "execution_count": 13,
   "outputs": [
    {
     "data": {
      "text/plain": "<tf.Tensor: shape=(2, 2), dtype=int32, numpy=\narray([[-25,  70],\n       [-20,   8]])>"
     },
     "execution_count": 13,
     "metadata": {},
     "output_type": "execute_result"
    }
   ],
   "source": [
    "a_tf = tf.constant([[25,10], [-2, 1]])\n",
    "b_tf = tf.constant([[-1, 7], [10, 8]])\n",
    "\n",
    "tf.multiply(a_tf, b_tf)"
   ],
   "metadata": {
    "collapsed": false,
    "ExecuteTime": {
     "end_time": "2023-10-28T11:17:48.287699700Z",
     "start_time": "2023-10-28T11:17:48.219430700Z"
    }
   },
   "id": "fad8713488e1dff8"
  },
  {
   "cell_type": "markdown",
   "source": [
    "# What is the dot product of below matrices?"
   ],
   "metadata": {
    "collapsed": false
   },
   "id": "47c54525857a864e"
  },
  {
   "cell_type": "code",
   "execution_count": 24,
   "outputs": [
    {
     "data": {
      "text/plain": "15"
     },
     "execution_count": 24,
     "metadata": {},
     "output_type": "execute_result"
    }
   ],
   "source": [
    "w = np.array([-1,2, -2])\n",
    "x = np.array([5, 10 , 0]) \n",
    "\n",
    "# w*x = w_1*x_1 + w_2*x_2 + w_3*x_3\n",
    "\n",
    "-1 * 5 + 2 * 10 + -2 * 0"
   ],
   "metadata": {
    "collapsed": false,
    "ExecuteTime": {
     "end_time": "2023-10-28T11:26:17.910256700Z",
     "start_time": "2023-10-28T11:26:17.881802900Z"
    }
   },
   "id": "79299a36070d5b7"
  },
  {
   "cell_type": "code",
   "execution_count": 25,
   "outputs": [
    {
     "data": {
      "text/plain": "15"
     },
     "execution_count": 25,
     "metadata": {},
     "output_type": "execute_result"
    }
   ],
   "source": [
    "w.dot(x)"
   ],
   "metadata": {
    "collapsed": false,
    "ExecuteTime": {
     "end_time": "2023-10-28T11:26:19.833363900Z",
     "start_time": "2023-10-28T11:26:19.806393900Z"
    }
   },
   "id": "26a8eba3a5fc88b"
  },
  {
   "cell_type": "code",
   "execution_count": 26,
   "outputs": [
    {
     "data": {
      "text/plain": "tensor(15)"
     },
     "execution_count": 26,
     "metadata": {},
     "output_type": "execute_result"
    }
   ],
   "source": [
    "w_ptorch = torch.tensor([-1,2, -2])\n",
    "x_ptorch = torch.tensor([5, 10 , 0])\n",
    "\n",
    "w_ptorch.dot(x_ptorch)"
   ],
   "metadata": {
    "collapsed": false,
    "ExecuteTime": {
     "end_time": "2023-10-28T11:26:21.127764700Z",
     "start_time": "2023-10-28T11:26:21.103750800Z"
    }
   },
   "id": "64a869e625ed85d8"
  },
  {
   "cell_type": "code",
   "execution_count": 18,
   "outputs": [
    {
     "data": {
      "text/plain": "tensor(15)"
     },
     "execution_count": 18,
     "metadata": {},
     "output_type": "execute_result"
    }
   ],
   "source": [
    "torch.sum(torch.multiply(w_ptorch, x_ptorch))"
   ],
   "metadata": {
    "collapsed": false,
    "ExecuteTime": {
     "end_time": "2023-10-28T11:21:13.232666500Z",
     "start_time": "2023-10-28T11:21:13.167387700Z"
    }
   },
   "id": "fc41a42ab900660e"
  },
  {
   "cell_type": "code",
   "execution_count": 27,
   "outputs": [
    {
     "data": {
      "text/plain": "<tf.Tensor: shape=(), dtype=int32, numpy=15>"
     },
     "execution_count": 27,
     "metadata": {},
     "output_type": "execute_result"
    }
   ],
   "source": [
    "w_tf = tf.constant([-1,2, -2])\n",
    "x_tf = tf.constant([5, 10 , 0])\n",
    "\n",
    "tf.tensordot(w_tf, x_tf, axes=1)"
   ],
   "metadata": {
    "collapsed": false,
    "ExecuteTime": {
     "end_time": "2023-10-28T11:26:22.396371800Z",
     "start_time": "2023-10-28T11:26:22.342361100Z"
    }
   },
   "id": "ff8273c6ea5c23eb"
  },
  {
   "cell_type": "code",
   "execution_count": 21,
   "outputs": [
    {
     "data": {
      "text/plain": "<tf.Tensor: shape=(), dtype=int32, numpy=15>"
     },
     "execution_count": 21,
     "metadata": {},
     "output_type": "execute_result"
    }
   ],
   "source": [
    "tf.reduce_sum(tf.multiply(w_tf, x_tf))"
   ],
   "metadata": {
    "collapsed": false,
    "ExecuteTime": {
     "end_time": "2023-10-28T11:21:45.519581600Z",
     "start_time": "2023-10-28T11:21:45.455047600Z"
    }
   },
   "id": "fad9eb51559bf00e"
  },
  {
   "cell_type": "code",
   "execution_count": null,
   "outputs": [],
   "source": [],
   "metadata": {
    "collapsed": false
   },
   "id": "9bebd57853c48e0c"
  }
 ],
 "metadata": {
  "kernelspec": {
   "display_name": "Python 3",
   "language": "python",
   "name": "python3"
  },
  "language_info": {
   "codemirror_mode": {
    "name": "ipython",
    "version": 2
   },
   "file_extension": ".py",
   "mimetype": "text/x-python",
   "name": "python",
   "nbconvert_exporter": "python",
   "pygments_lexer": "ipython2",
   "version": "2.7.6"
  }
 },
 "nbformat": 4,
 "nbformat_minor": 5
}
