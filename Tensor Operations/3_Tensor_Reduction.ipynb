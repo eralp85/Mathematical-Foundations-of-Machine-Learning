{
 "cells": [
  {
   "cell_type": "markdown",
   "source": [
    "# TENSOR REDUCTION\n",
    "\n",
    "Calculating the sum across all elements in a tensor is a common operation. This reduces the tensor to a scalar value.\n",
    "\n",
    "For vector x of length n, the sum is:\n",
    "\n",
    "$$\\sum_{i=1}^{n} x_i$$\n",
    "\n",
    "For matrix X with dimensions m x n, the sum is:\n",
    "\n",
    "$$\\sum_{i=1}^{m} \\sum_{j=1}^{n} X_{ij}$$\n"
   ],
   "metadata": {
    "collapsed": false
   },
   "id": "4b66aa36c1698e9"
  },
  {
   "cell_type": "code",
   "execution_count": 1,
   "outputs": [],
   "source": [
    "import numpy as np\n",
    "import torch\n",
    "import tensorflow as tf\n",
    "\n",
    "X = np.array([[11,12],[21,22],[31,32]])\n",
    "X_pytorch = torch.tensor([[11,12],[21,22],[31,32]])\n",
    "X_tensorflow = tf.constant([[11,12],[21,22],[31,32]])"
   ],
   "metadata": {
    "collapsed": false,
    "ExecuteTime": {
     "end_time": "2023-10-26T11:48:59.141026Z",
     "start_time": "2023-10-26T11:48:47.978245700Z"
    }
   },
   "id": "af5c8ebea707a5f4"
  },
  {
   "cell_type": "code",
   "execution_count": 2,
   "outputs": [
    {
     "data": {
      "text/plain": "array([[11, 12],\n       [21, 22],\n       [31, 32]])"
     },
     "execution_count": 2,
     "metadata": {},
     "output_type": "execute_result"
    }
   ],
   "source": [
    "X"
   ],
   "metadata": {
    "collapsed": false,
    "ExecuteTime": {
     "end_time": "2023-10-26T11:48:59.169021Z",
     "start_time": "2023-10-26T11:48:59.151025900Z"
    }
   },
   "id": "dc751d44108dac11"
  },
  {
   "cell_type": "code",
   "execution_count": 3,
   "outputs": [
    {
     "data": {
      "text/plain": "129"
     },
     "execution_count": 3,
     "metadata": {},
     "output_type": "execute_result"
    }
   ],
   "source": [
    "X.sum()"
   ],
   "metadata": {
    "collapsed": false,
    "ExecuteTime": {
     "end_time": "2023-10-26T11:49:14.148963600Z",
     "start_time": "2023-10-26T11:49:14.121979400Z"
    }
   },
   "id": "1f872947720ee4a9"
  },
  {
   "cell_type": "code",
   "execution_count": 6,
   "outputs": [
    {
     "data": {
      "text/plain": "tensor(129)"
     },
     "execution_count": 6,
     "metadata": {},
     "output_type": "execute_result"
    }
   ],
   "source": [
    "torch.sum(X_pytorch)"
   ],
   "metadata": {
    "collapsed": false,
    "ExecuteTime": {
     "end_time": "2023-10-26T11:50:30.602159100Z",
     "start_time": "2023-10-26T11:50:30.537602400Z"
    }
   },
   "id": "c40feec4c9b6af33"
  },
  {
   "cell_type": "code",
   "execution_count": 7,
   "outputs": [
    {
     "data": {
      "text/plain": "<tf.Tensor: shape=(), dtype=int32, numpy=129>"
     },
     "execution_count": 7,
     "metadata": {},
     "output_type": "execute_result"
    }
   ],
   "source": [
    "tf.reduce_sum(X_tensorflow)"
   ],
   "metadata": {
    "collapsed": false,
    "ExecuteTime": {
     "end_time": "2023-10-26T11:50:35.399220800Z",
     "start_time": "2023-10-26T11:50:35.338231300Z"
    }
   },
   "id": "270d68c596c5e0c7"
  },
  {
   "cell_type": "markdown",
   "source": [
    "Summation can also be done along specific axis.\n",
    "\n",
    "We can sum all rows (axis=0) or all columns (axis=1)."
   ],
   "metadata": {
    "collapsed": false
   },
   "id": "2255700a98343553"
  },
  {
   "cell_type": "code",
   "execution_count": 11,
   "outputs": [
    {
     "data": {
      "text/plain": "array([[11, 12],\n       [21, 22],\n       [31, 32]])"
     },
     "execution_count": 11,
     "metadata": {},
     "output_type": "execute_result"
    }
   ],
   "source": [
    "# Sum Numpy\n",
    "\n",
    "X"
   ],
   "metadata": {
    "collapsed": false,
    "ExecuteTime": {
     "end_time": "2023-10-26T12:16:30.523087600Z",
     "start_time": "2023-10-26T12:16:30.500087600Z"
    }
   },
   "id": "a8f9c384d02b3cee"
  },
  {
   "cell_type": "code",
   "execution_count": 8,
   "outputs": [
    {
     "data": {
      "text/plain": "array([63, 66])"
     },
     "execution_count": 8,
     "metadata": {},
     "output_type": "execute_result"
    }
   ],
   "source": [
    "X.sum(axis=0)"
   ],
   "metadata": {
    "collapsed": false,
    "ExecuteTime": {
     "end_time": "2023-10-26T12:15:37.563137600Z",
     "start_time": "2023-10-26T12:15:37.532641700Z"
    }
   },
   "id": "3456a7b144033017"
  },
  {
   "cell_type": "code",
   "execution_count": 9,
   "outputs": [
    {
     "data": {
      "text/plain": "array([23, 43, 63])"
     },
     "execution_count": 9,
     "metadata": {},
     "output_type": "execute_result"
    }
   ],
   "source": [
    "X.sum(axis=1)"
   ],
   "metadata": {
    "collapsed": false,
    "ExecuteTime": {
     "end_time": "2023-10-26T12:15:42.871870800Z",
     "start_time": "2023-10-26T12:15:42.829887800Z"
    }
   },
   "id": "48264f1a56e492ed"
  },
  {
   "cell_type": "code",
   "execution_count": 12,
   "outputs": [
    {
     "data": {
      "text/plain": "tensor([[11, 12],\n        [21, 22],\n        [31, 32]])"
     },
     "execution_count": 12,
     "metadata": {},
     "output_type": "execute_result"
    }
   ],
   "source": [
    "# Sum Pytorch\n",
    "\n",
    "X_pytorch"
   ],
   "metadata": {
    "collapsed": false,
    "ExecuteTime": {
     "end_time": "2023-10-26T12:16:49.846770300Z",
     "start_time": "2023-10-26T12:16:49.796439200Z"
    }
   },
   "id": "8191ae120fdf4190"
  },
  {
   "cell_type": "code",
   "execution_count": 13,
   "outputs": [
    {
     "data": {
      "text/plain": "tensor([63, 66])"
     },
     "execution_count": 13,
     "metadata": {},
     "output_type": "execute_result"
    }
   ],
   "source": [
    "torch.sum(X_pytorch, dim=0)"
   ],
   "metadata": {
    "collapsed": false,
    "ExecuteTime": {
     "end_time": "2023-10-26T12:17:09.806422Z",
     "start_time": "2023-10-26T12:17:09.749773Z"
    }
   },
   "id": "e688ab7666bb064f"
  },
  {
   "cell_type": "code",
   "execution_count": 14,
   "outputs": [
    {
     "data": {
      "text/plain": "tensor([23, 43, 63])"
     },
     "execution_count": 14,
     "metadata": {},
     "output_type": "execute_result"
    }
   ],
   "source": [
    "torch.sum(X_pytorch, dim=1)"
   ],
   "metadata": {
    "collapsed": false,
    "ExecuteTime": {
     "end_time": "2023-10-26T12:17:42.203445500Z",
     "start_time": "2023-10-26T12:17:42.128460300Z"
    }
   },
   "id": "ace1d84aeb478d6b"
  },
  {
   "cell_type": "code",
   "execution_count": 15,
   "outputs": [
    {
     "data": {
      "text/plain": "<tf.Tensor: shape=(3, 2), dtype=int32, numpy=\narray([[11, 12],\n       [21, 22],\n       [31, 32]])>"
     },
     "execution_count": 15,
     "metadata": {},
     "output_type": "execute_result"
    }
   ],
   "source": [
    "# Sum Tensorflow\n",
    "\n",
    "X_tensorflow"
   ],
   "metadata": {
    "collapsed": false,
    "ExecuteTime": {
     "end_time": "2023-10-26T12:17:58.319595900Z",
     "start_time": "2023-10-26T12:17:58.253577200Z"
    }
   },
   "id": "dc16856ab6b50244"
  },
  {
   "cell_type": "code",
   "execution_count": 16,
   "outputs": [
    {
     "data": {
      "text/plain": "<tf.Tensor: shape=(2,), dtype=int32, numpy=array([63, 66])>"
     },
     "execution_count": 16,
     "metadata": {},
     "output_type": "execute_result"
    }
   ],
   "source": [
    "tf.reduce_sum(X_tensorflow, axis=0)"
   ],
   "metadata": {
    "collapsed": false,
    "ExecuteTime": {
     "end_time": "2023-10-26T12:18:01.638446900Z",
     "start_time": "2023-10-26T12:18:01.566459100Z"
    }
   },
   "id": "7f2d90d5dc9f81ad"
  },
  {
   "cell_type": "code",
   "execution_count": 17,
   "outputs": [
    {
     "data": {
      "text/plain": "<tf.Tensor: shape=(3,), dtype=int32, numpy=array([23, 43, 63])>"
     },
     "execution_count": 17,
     "metadata": {},
     "output_type": "execute_result"
    }
   ],
   "source": [
    "tf.reduce_sum(X_tensorflow, axis=1)"
   ],
   "metadata": {
    "collapsed": false,
    "ExecuteTime": {
     "end_time": "2023-10-26T12:18:03.559889200Z",
     "start_time": "2023-10-26T12:18:03.528892500Z"
    }
   },
   "id": "548b0044135ec3c2"
  },
  {
   "cell_type": "markdown",
   "source": [
    "Many other operations can be applied with reduction, such as mean, product, minimum, maximum, standard deviation, and more.\n",
    "\n",
    "They are fairly straight forward and used less often than the sum operation.\n",
    "\n"
   ],
   "metadata": {
    "collapsed": false
   },
   "id": "856ad6552ba1b7c1"
  },
  {
   "cell_type": "code",
   "execution_count": null,
   "outputs": [],
   "source": [],
   "metadata": {
    "collapsed": false
   },
   "id": "32f29868179f4c7"
  }
 ],
 "metadata": {
  "kernelspec": {
   "display_name": "Python 3",
   "language": "python",
   "name": "python3"
  },
  "language_info": {
   "codemirror_mode": {
    "name": "ipython",
    "version": 2
   },
   "file_extension": ".py",
   "mimetype": "text/x-python",
   "name": "python",
   "nbconvert_exporter": "python",
   "pygments_lexer": "ipython2",
   "version": "2.7.6"
  }
 },
 "nbformat": 4,
 "nbformat_minor": 5
}
