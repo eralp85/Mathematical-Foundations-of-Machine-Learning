{
 "cells": [
  {
   "cell_type": "markdown",
   "source": [
    "# SOLVING LINEAR SYSTEMS\n",
    "\n",
    "## SUBSTITUTION\n",
    "\n",
    "Substitution method is used for whenever there is a variable in a system with a coefficient of 1.\n",
    "\n",
    "For Example, when we are solving for x and y in the following system:\n",
    "\n",
    "y = 3x\n",
    "-5x + 2y =2\n",
    "\n",
    "System of two equations and variable y in the first equation has a coefficient of 1. We can use substitution method to solve this system.\n",
    "\n",
    "We can substitute the first equation into the second equation and solve for x.\n",
    "\n",
    "-5x + 2(3x) = 2\n",
    "-5x + 6x = 2\n",
    "x = 2 \n",
    "y = 3(2) = 6"
   ],
   "metadata": {
    "collapsed": false
   },
   "id": "d78f7f33fd22dc3b"
  },
  {
   "cell_type": "markdown",
   "source": [
    "## EXERCISES\n",
    "\n",
    "### Exercise 1\n",
    "\n",
    "Solve the following system of equations using substitution method.\n",
    "\n",
    "x + y = 6 and 2x + 3y = 16\n",
    "\n",
    "x = 6 - y\n",
    "\n",
    "2(6 - y) + 3y = 16\n",
    "12 - 2y + 3y = 16\n",
    "12 + y = 16\n",
    "y = 4\n",
    "x = 6 - 4 = 2\n",
    "\n",
    "### Exercise 2\n",
    "\n",
    "Solve the following system of equations using substitution method.\n",
    "\n",
    "-x + 4y = 0 and 2x - 5y = -6\n",
    "\n",
    "-x = -4y\n",
    "x = 4y\n",
    "\n",
    "2(4y) - 5y = -6\n",
    "8y - 5y = -6\n",
    "3y = -6\n",
    "y = -2\n",
    "x = 4(-2) = -8\n",
    "\n",
    "### Exercise 3\n",
    "\n",
    "Solve the following system of equations using substitution method.\n",
    "\n",
    "y = 4x +1 and -4x + y = 2\n",
    "\n",
    "no solution"
   ],
   "metadata": {
    "collapsed": false
   },
   "id": "33f1d52d7bd43497"
  },
  {
   "cell_type": "code",
   "execution_count": null,
   "outputs": [],
   "source": [],
   "metadata": {
    "collapsed": false
   },
   "id": "649dda1f856af358"
  }
 ],
 "metadata": {
  "kernelspec": {
   "display_name": "Python 3",
   "language": "python",
   "name": "python3"
  },
  "language_info": {
   "codemirror_mode": {
    "name": "ipython",
    "version": 2
   },
   "file_extension": ".py",
   "mimetype": "text/x-python",
   "name": "python",
   "nbconvert_exporter": "python",
   "pygments_lexer": "ipython2",
   "version": "2.7.6"
  }
 },
 "nbformat": 4,
 "nbformat_minor": 5
}
