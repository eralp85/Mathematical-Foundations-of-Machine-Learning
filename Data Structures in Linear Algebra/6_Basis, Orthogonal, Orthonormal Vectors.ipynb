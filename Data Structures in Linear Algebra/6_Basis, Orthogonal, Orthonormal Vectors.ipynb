{
 "cells": [
  {
   "cell_type": "markdown",
   "source": [
    "# Basis, Orthogonal and Orthonormal Vectors\n",
    "\n",
    "## Basis Vectors\n",
    "\n",
    "Basis Vectors are set of vectors that can be scaled to represent any vector in a given vector space.\n",
    "\n",
    "We typically use unit vectors along the axes of a vector space for basis vectors.\n",
    "\n",
    "* So if we have a two dimentional vector space, we can represent it with two axes X and Y and the typical basis vectors would be unit vectors along X and Y axes.\n",
    "\n",
    "## Orthogonal Vectors\n",
    "\n",
    "Orthogonal vectors are sets of vectors where we have a two dimensional space and we take the dot product of those two vectors, X and Y, and we get zero.\n",
    "\n",
    "What that meeans that thes two vectors are at 90 degrees to each other.\n",
    "\n",
    "## Orthonormal Vectors\n",
    "\n",
    "Orthonormal vectors are orthogonal vectors that are also unit vectors.\n",
    "\n",
    "Basis vectors are always orthogonal to each other, but they are not always unit vectors.\n"
   ],
   "metadata": {
    "collapsed": false
   },
   "id": "64a1bf1403549626"
  }
 ],
 "metadata": {
  "kernelspec": {
   "display_name": "Python 3",
   "language": "python",
   "name": "python3"
  },
  "language_info": {
   "codemirror_mode": {
    "name": "ipython",
    "version": 2
   },
   "file_extension": ".py",
   "mimetype": "text/x-python",
   "name": "python",
   "nbconvert_exporter": "python",
   "pygments_lexer": "ipython2",
   "version": "2.7.6"
  }
 },
 "nbformat": 4,
 "nbformat_minor": 5
}
