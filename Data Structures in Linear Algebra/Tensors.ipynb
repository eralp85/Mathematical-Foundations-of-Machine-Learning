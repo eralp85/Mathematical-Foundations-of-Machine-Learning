{
 "cells": [
  {
   "cell_type": "markdown",
   "source": [
    "# TENSORS\n",
    "\n",
    "Tensors are the fundamental building block of linear algebra for any kind of machine learning.\n",
    "\n",
    "A tensor is a ML generalization of vectors and matrices and is easily understood as a multidimensional array.\n",
    "\n",
    "scalar = 0D tensor (single number= x)\n",
    "vector = 1D tensor (array of numbers = [x1, x2, x3 ] )\n",
    "matrix = 2D tensor (array of vectors =\n",
    " \n",
    "\n",
    "\\begin{bmatrix}\n",
    "x11 & x12 \\\\\n",
    "x21 & x22 \\\\\n",
    "\\end{bmatrix}\n",
    " \n",
    "\n",
    "3D tensor = 3D table of numbers, cube.\n",
    "\n",
    "nD tensor = nD table of numbers.(high dimensional tensor)\n",
    "\n",
    "\n"
   ],
   "metadata": {
    "collapsed": false
   },
   "id": "1b62065ca6d6fae4"
  },
  {
   "cell_type": "code",
   "execution_count": null,
   "outputs": [],
   "source": [],
   "metadata": {
    "collapsed": false
   },
   "id": "fe74cdf3edd8747e"
  }
 ],
 "metadata": {
  "kernelspec": {
   "display_name": "Python 3",
   "language": "python",
   "name": "python3"
  },
  "language_info": {
   "codemirror_mode": {
    "name": "ipython",
    "version": 2
   },
   "file_extension": ".py",
   "mimetype": "text/x-python",
   "name": "python",
   "nbconvert_exporter": "python",
   "pygments_lexer": "ipython2",
   "version": "2.7.6"
  }
 },
 "nbformat": 4,
 "nbformat_minor": 5
}
