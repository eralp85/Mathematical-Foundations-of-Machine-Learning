{
 "cells": [
  {
   "cell_type": "markdown",
   "source": [
    "# Mathematical Foundations of Machine Learning\n",
    "\n",
    "## Data Sturctures in Linear Algebra"
   ],
   "metadata": {
    "collapsed": false
   },
   "id": "9a97398898287ff8"
  },
  {
   "cell_type": "markdown",
   "source": [
    "What is Linear Algebra?\n",
    "\n",
    "Solving for unknowns in a system of linear equations.\n",
    "\n",
    "2x + 5 = 25 is a linear equation.\n",
    "\n",
    "2x + 5y = 25 is a system of linear equations.\n",
    "\n",
    "2x^2 + 5y = 25 is not a linear algebra.\n",
    "\n",
    "Consider sherif has 180 km/h (180/60 = 3 km/min) car. Robber has a 150 (150/60 = 2,5 km/min) km/h car and five minutes head start. How long will it take for the sheriff to catch the robber? and what distance will they be from the starting point?\n",
    "\n",
    "Let's define the variables:\n",
    "\n",
    "d = distance from the starting point\n",
    "\n",
    "t = time\n",
    "\n",
    "Robber Equation => d = 2.5t\n",
    "Sheriff Equation => d = 3(t-5)\n",
    "\n",
    "d => \n",
    "2.5t = 3(t-5)\n",
    "t = 30 min\n",
    "\n",
    "d = 2.5 * 30 = 75 km\n",
    "\n",
    "There will be no solution if the sheriff has the same speed as the robber.\n",
    "\n",
    "There will be infinite solutions if the sheriff and the robber have the same speed and the same head start.\n",
    "\n",
    "* There are three possible outcomes for a system of linear equations: one solution, no solution, or infinite solutions.*\n",
    "\n",
    "In a given system of equations:\n",
    "\n",
    "- There could be many equations.\n",
    "- There could be many unknowns in each equation. (such as regression y = a + bx1 + cx2+ ...)\n",
    "\n",
    "y = a + bx1 + cx2+ ...\n",
    "\n",
    "It is typical in machine learning to have thousands of rows representing data points and hundreds of columns representing variable that we want to use to predict the outcome and the features.\n",
    "\n",
    "In linear algebra, we use matrices to represent the system of linear equations.\n",
    "\n",
    "A matrix is a rectangular array of numbers.\n",
    "\n",
    "\n",
    "\n",
    "\"\"\"\"\"\""
   ],
   "metadata": {
    "collapsed": false
   },
   "id": "d50ab98062537583"
  },
  {
   "cell_type": "code",
   "execution_count": null,
   "outputs": [],
   "source": [
    "import numpy as np\n",
    "import matplotlib.pyplot as plt\n",
    "\n",
    "# Variable for time\n",
    "\n",
    "# linspace() function is used to create evenly spaced values over a specified range. \n",
    "\n",
    "# The function is especially useful when you want to create a range of values for plotting or for generating test data.\n",
    "\n",
    "# 1000 values between 0 and 40. \n",
    "t = np.linspace(0, 40, 1000) \n",
    "\n",
    "# Distance travelled by the robber\n",
    "\n",
    "d_robber = 2.5 * t\n",
    "\n",
    "# Distance travelled by the sheriff\n",
    "\n",
    "d_sheriff = 3 * (t - 5)\n",
    "\n",
    "# Plot the distance versus time\n",
    "\n",
    "fig, ax = plt.subplots()\n",
    "plt.title(\"A Robber get caught by a Sheriff\")\n",
    "plt.xlabel(\"Time (min)\")\n",
    "plt.ylabel(\"Distance (km)\")\n",
    "ax.set_xlim([0, 40])\n",
    "ax.set_ylim([0, 100])\n",
    "ax.plot(t, d_robber, label=\"Robber\", color=\"red\")\n",
    "ax.plot(t, d_sheriff, label=\"Sheriff\", color=\"blue\")\n",
    "plt.axvline(x=30, color=\"black\", linestyle=\"--\")\n",
    "\n",
    "_ = plt.axhline(y=75, color=\"black\", linestyle=\"--\")\n",
    "\n",
    "plt.legend()\n",
    "plt.show()\n"
   ],
   "metadata": {
    "collapsed": false,
    "is_executing": true
   },
   "id": "cb5287ea6bf9fb95"
  },
  {
   "cell_type": "code",
   "execution_count": null,
   "outputs": [],
   "source": [],
   "metadata": {
    "collapsed": false
   },
   "id": "66aece9141ff308f"
  }
 ],
 "metadata": {
  "kernelspec": {
   "display_name": "Python 3",
   "language": "python",
   "name": "python3"
  },
  "language_info": {
   "codemirror_mode": {
    "name": "ipython",
    "version": 2
   },
   "file_extension": ".py",
   "mimetype": "text/x-python",
   "name": "python",
   "nbconvert_exporter": "python",
   "pygments_lexer": "ipython2",
   "version": "2.7.6"
  }
 },
 "nbformat": 4,
 "nbformat_minor": 5
}
