{
 "cells": [
  {
   "cell_type": "markdown",
   "source": [
    "# NORMS and UNIT VECTORS\n",
    "\n",
    "We have described vector as a point in a space.\n",
    "\n",
    "We can also describe a vector as a direction and a magnitude through space.\n",
    "\n",
    "The magnitude of a vector is called its norm.\n",
    "\n",
    "The norm of a vector is the distance from the origin to the point that represents the vector.\n",
    "\n",
    "Norms are functions that quantify the size or magnitude of a vector.\n",
    "\n",
    "Norms are used to regularize objective functions so that they do not become too large.\n",
    "\n",
    "With a vector of length 2, we can represent a particular point in 2D space.\n",
    "\n",
    "$$\n",
    "\\begin{bmatrix}\n",
    "    x_1 & x_2\n",
    "\\end{bmatrix} = \\begin{bmatrix}\n",
    "    8 &  4\n",
    "\\end{bmatrix}\n",
    "$$"
   ],
   "metadata": {
    "collapsed": false
   },
   "id": "41a0b734176de33b"
  },
  {
   "cell_type": "markdown",
   "source": [
    "import matplotlib.pyplot as plt\n",
    "\n",
    "plt.xlim(0, 10)\n",
    "plt.ylim(0, 10)\n",
    "plt.xlabel('x1')\n",
    "plt.ylabel('x2')\n",
    "# Vertical line from (3, 0) to (3, 4)\n",
    "plt.plot([8, 8], [0, 4], color='purple', linestyle='--')\n",
    "\n",
    "# Horizontal line from (0, 4) to (3, 4)\n",
    "plt.plot([0, 8], [4, 4], color='red', linestyle='--')\n",
    "plt.show()"
   ],
   "metadata": {
    "collapsed": false
   },
   "id": "858aaff379162560"
  },
  {
   "cell_type": "markdown",
   "source": [
    "We can also think of this vector as a direction and a magnitude.\n",
    "\n",
    "\n",
    "The direction is the direction of the line from the origin to the point.\n",
    "\n",
    "The magnitude is the length of the line from the origin to the point.\n",
    "\n",
    "$$\n",
    "\\begin{bmatrix}\n",
    "    x_1 & x_2 \n",
    "\\end{bmatrix} = \\begin{bmatrix}\n",
    "    8 &  4\n",
    "\\end{bmatrix}\n",
    "$$"
   ],
   "metadata": {
    "collapsed": false
   },
   "id": "3e82747e74169a1e"
  },
  {
   "cell_type": "code",
   "execution_count": 27,
   "outputs": [
    {
     "data": {
      "text/plain": "<Figure size 432x288 with 1 Axes>",
      "image/png": "[encoded data removed]"
     },
     "metadata": {
      "needs_background": "light"
     },
     "output_type": "display_data"
    }
   ],
   "source": [
    "import matplotlib.pyplot as plt\n",
    "\n",
    "plt.xlim(0, 10)\n",
    "plt.ylim(0, 10)\n",
    "plt.xlabel('x1')\n",
    "plt.ylabel('x2')\n",
    "plt.arrow(0, 0, 8, 4, head_width=0.2, head_length=0.3, color='orange')\n",
    "plt.show()\n"
   ],
   "metadata": {
    "collapsed": false,
    "ExecuteTime": {
     "end_time": "2023-10-22T11:36:33.856346900Z",
     "start_time": "2023-10-22T11:36:33.613377700Z"
    }
   },
   "id": "257db06d8f64f377"
  },
  {
   "cell_type": "markdown",
   "source": [
    "Vectors represent directions and magnitudes from origin.\n",
    "\n",
    "Norms are a class of functions that allow us to quantify the magnitude, the length, of a given vector.\n",
    "\n",
    "The most common and the most important norm is called the L2 norm, or the Euclidean norm.\n",
    "\n",
    "The L2 norm of a vector is the square root of the sum of the squared vector values.\n",
    "\n",
    "$$\n",
    "|| x ||_2 = \\sqrt{\\sum x_i^2 }\n",
    "$$"
   ],
   "metadata": {
    "collapsed": false
   },
   "id": "8299f0f3479d4af6"
  },
  {
   "cell_type": "markdown",
   "source": [
    "L2 norm function measures simple (Euclidean) distance from the origin to the point that the vector represents.\n",
    "\n",
    "It represents the shortest distance from the origin to the point.\n",
    "\n"
   ],
   "metadata": {
    "collapsed": false
   },
   "id": "410d1c7db1c925bf"
  },
  {
   "cell_type": "code",
   "execution_count": 28,
   "outputs": [
    {
     "data": {
      "text/plain": "array([25,  2,  5])"
     },
     "execution_count": 28,
     "metadata": {},
     "output_type": "execute_result"
    }
   ],
   "source": [
    "import numpy as np\n",
    "\n",
    "x = np.array([25, 2 , 5])\n",
    "x"
   ],
   "metadata": {
    "collapsed": false,
    "ExecuteTime": {
     "end_time": "2023-10-22T11:36:33.957351Z",
     "start_time": "2023-10-22T11:36:33.867394700Z"
    }
   },
   "id": "cbe39a2107c59e15"
  },
  {
   "cell_type": "code",
   "execution_count": 29,
   "outputs": [
    {
     "data": {
      "text/plain": "25.573423705088842"
     },
     "execution_count": 29,
     "metadata": {},
     "output_type": "execute_result"
    }
   ],
   "source": [
    "# If we want to calculate the L2 norm:\n",
    "(25**2 + 2**2 + 5**2)** (1/2)"
   ],
   "metadata": {
    "collapsed": false,
    "ExecuteTime": {
     "end_time": "2023-10-22T11:36:33.971354100Z",
     "start_time": "2023-10-22T11:36:33.891349100Z"
    }
   },
   "id": "8ca6c72fed140f5f"
  },
  {
   "cell_type": "code",
   "execution_count": 30,
   "outputs": [
    {
     "data": {
      "text/plain": "25.573423705088842"
     },
     "execution_count": 30,
     "metadata": {},
     "output_type": "execute_result"
    }
   ],
   "source": [
    "np.linalg.norm(x)"
   ],
   "metadata": {
    "collapsed": false,
    "ExecuteTime": {
     "end_time": "2023-10-22T11:36:33.972353300Z",
     "start_time": "2023-10-22T11:36:33.907348500Z"
    }
   },
   "id": "3280c2794d59602b"
  },
  {
   "cell_type": "markdown",
   "source": [
    "This means that if the units in our three dimensional space here were meters, that means our vector is 25.57 meters away from the origin."
   ],
   "metadata": {
    "collapsed": false
   },
   "id": "1135f27929f7a44"
  },
  {
   "cell_type": "markdown",
   "source": [
    "## UNIT VECTORS\n",
    "\n",
    "A unit vector is a vector that has a length of exactly 1 unit.\n",
    "\n",
    "L1 norm is the sum of the absolute values of the vector.\n",
    "\n",
    "$$\n",
    "|| x ||_1 = \\sum |x_i|\n",
    "$$\n",
    "\n",
    "L1 is also known as Manhattan norm. It is called Manhattan norm because it measures the distance between two points in a city if you can only travel along orthogonal city blocks.\n",
    "\n",
    "Used in machine learning to create sparse solutions.\n",
    "\n",
    "Suppose you want to travel from point A to point B in a city. You can only travel along orthogonal city blocks. What is the shortest path from A to B?\n",
    "\n",
    "You cannot jump over buildings or go through buildings. You can only travel along the streets. The shortest path is the Manhattan distance.\n"
   ],
   "metadata": {
    "collapsed": false
   },
   "id": "1daa73b17736f8b7"
  },
  {
   "cell_type": "code",
   "execution_count": 31,
   "outputs": [
    {
     "data": {
      "text/plain": "array([25,  2,  5])"
     },
     "execution_count": 31,
     "metadata": {},
     "output_type": "execute_result"
    }
   ],
   "source": [
    "import numpy as np\n",
    "\n",
    "x = np.array([25, 2 , 5])\n",
    "x"
   ],
   "metadata": {
    "collapsed": false,
    "ExecuteTime": {
     "end_time": "2023-10-22T11:36:33.974350500Z",
     "start_time": "2023-10-22T11:36:33.922346500Z"
    }
   },
   "id": "f03e92b43e3561b"
  },
  {
   "cell_type": "code",
   "execution_count": 32,
   "outputs": [
    {
     "data": {
      "text/plain": "32"
     },
     "execution_count": 32,
     "metadata": {},
     "output_type": "execute_result"
    }
   ],
   "source": [
    "np.abs(25) + np.abs(2) + np.abs(5)"
   ],
   "metadata": {
    "collapsed": false,
    "ExecuteTime": {
     "end_time": "2023-10-22T11:36:33.976353800Z",
     "start_time": "2023-10-22T11:36:33.934351500Z"
    }
   },
   "id": "5e8d25cdd5a27c8d"
  },
  {
   "cell_type": "code",
   "execution_count": 32,
   "outputs": [],
   "source": [],
   "metadata": {
    "collapsed": false,
    "ExecuteTime": {
     "end_time": "2023-10-22T11:36:33.985371400Z",
     "start_time": "2023-10-22T11:36:33.951351100Z"
    }
   },
   "id": "c4a0f47a44e6f2f8"
  }
 ],
 "metadata": {
  "kernelspec": {
   "display_name": "Python 3",
   "language": "python",
   "name": "python3"
  },
  "language_info": {
   "codemirror_mode": {
    "name": "ipython",
    "version": 2
   },
   "file_extension": ".py",
   "mimetype": "text/x-python",
   "name": "python",
   "nbconvert_exporter": "python",
   "pygments_lexer": "ipython2",
   "version": "2.7.6"
  }
 },
 "nbformat": 4,
 "nbformat_minor": 5
}
