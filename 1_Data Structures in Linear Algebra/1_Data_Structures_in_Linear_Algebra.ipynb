{
 "cells": [
  {
   "cell_type": "markdown",
   "source": [
    "# Mathematical Foundations of Machine Learning\n",
    "\n",
    "## Data Sturctures in Linear Algebra"
   ],
   "metadata": {
    "collapsed": false
   },
   "id": "9a97398898287ff8"
  },
  {
   "cell_type": "markdown",
   "source": [
    "What is Linear Algebra?\n",
    "\n",
    "**Linear Algebra** is solving for unknowns in a system of linear equations.\n",
    "\n",
    "Linear Algebra is a branch of mathematics that deals with vectors, vector spaces (also known as linear spaces), linear transformations, and systems of linear equations. \n",
    "\n",
    "\n",
    "\n",
    "2x + 5 = 25 is a linear equation.\n",
    "\n",
    "2x + 5y = 25 is a system of linear equations.\n",
    "\n",
    "If there is an exponential term, it is not a linear algebra. \n",
    "\n",
    "2x^2 + 5y = 25 is not a linear algebra.\n",
    "\n",
    "Consider sherif has 180 km/h (180/60 = 3 km/min) car. Robber has a 150 (150/60 = 2,5 km/min) km/h car and five minutes head start. How long will it take for the sheriff to catch the robber? and what distance will they be from the starting point?\n",
    "\n",
    "Let's define the variables:\n",
    "\n",
    "d = distance from the starting point\n",
    "\n",
    "t = time\n",
    "\n",
    "Robber Equation => d = 2.5t\n",
    "Sheriff Equation => d = 3(t-5)\n",
    "\n",
    "d => \n",
    "2.5t = 3(t-5)\n",
    "t = 30 min\n",
    "\n",
    "d = 2.5 * 30 = 75 km\n",
    "\n",
    "There will be no solution if the sheriff has the same speed as the robber.\n",
    "\n",
    "There will be infinite solutions if the sheriff and the robber have the same speed and the same head start.\n",
    "\n",
    "There are three possible outcomes for a system of linear equations: \n",
    "\n",
    "* one solution, \n",
    "* no solution, or \n",
    "* infinite solutions.*\n",
    "\n",
    "In a given system of equations:\n",
    "\n",
    "- There could be many equations.\n",
    "- There could be many unknowns in each equation. (such as regression model y = a + bx1 + cx2+ ...)\n",
    "\n",
    "Let's consider a simple regression equation example:\n",
    "\n",
    "y = a + bx_1 + cx_2+ ... +mx_m\n",
    "\n",
    "Let's say that we are trying to predict house prices. \n",
    "\n",
    "for a given house, we have the following features:\n",
    "\n",
    "y = house price\n",
    "a = y-intercept\n",
    "b = coefficient for x_1 (feature 1=distance to school)\n",
    "c = coefficient for x_2 (feature 2=number of bedrooms)\n",
    "m = coefficient for x_m (feature m=number of bathrooms(can be many feature!))\n",
    "\n",
    "We are predicting y (house price) using the features x_1, x_2, x_m.\n",
    "\n",
    "The more features we have, the more accurate our prediction will be.\n",
    "\n",
    "a = y-intercept is the value of y when all the features are zero. \n",
    "\n",
    "It allows us to across all the house prices we have an average house price. \n",
    "\n",
    "Without the y-intercept, without that kind of average baseline, before we start factoring in the other features, it becomes much more difficult to fit a good model.\n",
    "\n",
    "$$y = a + bx_1 + cx_2+ ... +mx_m$$\n",
    "\n",
    "In above we have many unknowns, and we could have effectively unlimited rows where every time we get a house price and collect the pertinent information associated with that house price, like distance to school, number of bedrooms and so on."
   ],
   "metadata": {
    "collapsed": false
   },
   "id": "d50ab98062537583"
  },
  {
   "cell_type": "markdown",
   "source": [
    "\n",
    "$$\n",
    "y = a + bx_1 + cx_2+ ... +mx_m\n",
    "$$\n",
    "\n",
    "\\begin{align*}\n",
    "\\begin{bmatrix}\n",
    "y_1 | a + b x_{1,1} + c x_{1,2} + \\dots + m x_{1,m} \\\\\n",
    "y_2 | a + b x_{2,1} + c x_{2,2} + \\dots + m x_{2,m} \\\\\n",
    "y_3 | a + b x_{3,1} + c x_{3,2} + \\dots + m x_{3,m} \\\\\n",
    "\\vdots \\\\\n",
    "y_n | a + b x_{n,1} + c x_{n,2} + \\dots + m x_{n,m}\n",
    "\\end{bmatrix}\n",
    "\\end{align*}\n",
    "\n",
    "\n",
    "For any house i in the dataset:\n",
    "\n",
    "$y_i$ = house price\n",
    "$x_{i,1}$ to $x_{i,m}$ = features\n",
    "\n",
    "We solve for the parameters a, b, c, and m.\n",
    "\n",
    "\n"
   ],
   "metadata": {
    "collapsed": false
   },
   "id": "1fdad31372342086"
  },
  {
   "cell_type": "markdown",
   "source": [
    "\n",
    "It is typical in machine learning to have thousands of rows representing data points and hundreds of columns representing variable that we want to use to predict the outcome and the features.\n",
    "\n",
    "In above example we can have thousands of rows of $y_i$ representing different house prices and $x_i$ representing different features.\n",
    "\n",
    "y is our outcome that we are predicting, say, a house price and\n",
    " \n",
    "X's is the variables, the actual values that we have associated with that house price.  \n",
    "\n",
    "a, b, c, and m are the parameters that we are trying to solve for.\n",
    "\n",
    "\n",
    "In linear algebra, we use matrices to represent the system of linear equations."
   ],
   "metadata": {
    "collapsed": false
   },
   "id": "ac0f8e0fd588219f"
  },
  {
   "cell_type": "code",
   "execution_count": 1,
   "outputs": [
    {
     "data": {
      "text/plain": "<Figure size 432x288 with 1 Axes>",
      "image/png": "[encoded data removed]"
     },
     "metadata": {
      "needs_background": "light"
     },
     "output_type": "display_data"
    }
   ],
   "source": [
    "import numpy as np\n",
    "import matplotlib.pyplot as plt\n",
    "\n",
    "# Variable for time\n",
    "\n",
    "# linspace() function is used to create evenly spaced values over a specified range. \n",
    "\n",
    "# The function is especially useful when you want to create a range of values for plotting or for generating test data.\n",
    "\n",
    "# 1000 values between 0 and 40. \n",
    "t = np.linspace(0, 40, 1000) \n",
    "\n",
    "# Distance travelled by the robber\n",
    "\n",
    "d_robber = 2.5 * t\n",
    "\n",
    "# Distance travelled by the sheriff\n",
    "\n",
    "d_sheriff = 3 * (t - 5)\n",
    "\n",
    "# Plot the distance versus time\n",
    "\n",
    "fig, ax = plt.subplots()\n",
    "plt.title(\"A Robber get caught by a Sheriff\")\n",
    "plt.xlabel(\"Time (min)\")\n",
    "plt.ylabel(\"Distance (km)\")\n",
    "ax.set_xlim([0, 40]) # x axis limit\n",
    "ax.set_ylim([0, 100]) # y axis limit\n",
    "ax.plot(t, d_robber, label=\"Robber\", color=\"red\") # plot the robber\n",
    "ax.plot(t, d_sheriff, label=\"Sheriff\", color=\"blue\") # plot the sheriff\n",
    "plt.axvline(x=30, color=\"purple\", linestyle=\"--\") # plot the time when the sheriff catches the robber\n",
    "_ = plt.axhline(y=75, color=\"purple\", linestyle=\"--\") # plot the distance when the sheriff catches the robber\n",
    "\n",
    "plt.legend()\n",
    "plt.show()\n"
   ],
   "metadata": {
    "collapsed": false,
    "ExecuteTime": {
     "end_time": "2024-02-24T16:08:39.674818400Z",
     "start_time": "2024-02-24T16:08:38.049649700Z"
    }
   },
   "id": "cb5287ea6bf9fb95"
  },
  {
   "cell_type": "code",
   "execution_count": 1,
   "outputs": [],
   "source": [],
   "metadata": {
    "collapsed": false,
    "ExecuteTime": {
     "end_time": "2024-02-24T16:08:39.684239Z",
     "start_time": "2024-02-24T16:08:39.684239Z"
    }
   },
   "id": "66aece9141ff308f"
  }
 ],
 "metadata": {
  "kernelspec": {
   "display_name": "Python 3",
   "language": "python",
   "name": "python3"
  },
  "language_info": {
   "codemirror_mode": {
    "name": "ipython",
    "version": 2
   },
   "file_extension": ".py",
   "mimetype": "text/x-python",
   "name": "python",
   "nbconvert_exporter": "python",
   "pygments_lexer": "ipython2",
   "version": "2.7.6"
  }
 },
 "nbformat": 4,
 "nbformat_minor": 5
}
