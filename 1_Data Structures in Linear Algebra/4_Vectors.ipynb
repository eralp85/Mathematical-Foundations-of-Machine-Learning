{
 "cells": [
  {
   "cell_type": "markdown",
   "source": [
    "# VECTORS\n",
    "\n",
    "Vectors are one-dimensional array of numbers.\n",
    "\n",
    "Vectors are arranged in an order, so all the elements in the vector are in a specific position.\n",
    "\n",
    "Vector elements can be accessed by its index.\n",
    "\n",
    "Vector elements are scalars.\n",
    "\n",
    "Vectors represent a particular point in space.\n",
    "\n",
    "Vector of length two represents a point in a 2D matrix.\n",
    "\n",
    "Vector of length three represents a point in a 3D cube.\n",
    "\n",
    "Vector of length n represents a point in an n-dimensional space.\n",
    "\n"
   ],
   "metadata": {
    "collapsed": false
   },
   "id": "a9d57031748d4b16"
  },
  {
   "cell_type": "markdown",
   "source": [
    "## VECTOR TRANPOSE\n",
    "\n",
    "Vector transpose is a vector with the same elements but arranged in a different order.\n",
    "\n",
    "Vector transpose is denoted by a superscript T.\n",
    "\n",
    "Transpose makes a row vector into a column vector and vice versa.\n",
    "\n",
    "All the elements in a vector remain the same after transpose.\n",
    "\n",
    "Original vector:\n",
    "\n",
    "$$\n",
    "\\begin{bmatrix}\n",
    "    x_1 & x_2 & x_3\n",
    "\\end{bmatrix}^T \n",
    "\n",
    "= \n",
    "\n",
    "\\begin{bmatrix}\n",
    "x_1 \\\\\n",
    "x_2 \\\\\n",
    "x_3 \\\\\n",
    "\\end{bmatrix}\n",
    "$$\n",
    "\n",
    "First one is Row Vector: Shape is (1, 3)\n",
    "Second one is Column Vector: Shape is (3, 1)"
   ],
   "metadata": {
    "collapsed": false
   },
   "id": "e5261ff2dfae917d"
  },
  {
   "cell_type": "markdown",
   "source": [
    "## VECTORS (RANK 1 TENSORS) in NumPy\n",
    "\n",
    "Vectors are rank 1 tensors."
   ],
   "metadata": {
    "collapsed": false
   },
   "id": "1a565f6f9f35237b"
  },
  {
   "cell_type": "code",
   "execution_count": 2,
   "outputs": [
    {
     "data": {
      "text/plain": "array([25,  2,  5])"
     },
     "execution_count": 2,
     "metadata": {},
     "output_type": "execute_result"
    }
   ],
   "source": [
    "import numpy as np\n",
    "\n",
    "x = np.array([25, 2, 5])\n",
    "x"
   ],
   "metadata": {
    "collapsed": false,
    "ExecuteTime": {
     "end_time": "2023-10-22T09:25:42.673676600Z",
     "start_time": "2023-10-22T09:25:42.630690800Z"
    }
   },
   "id": "dd29f2882911d3d7"
  },
  {
   "cell_type": "code",
   "execution_count": 3,
   "outputs": [
    {
     "data": {
      "text/plain": "3"
     },
     "execution_count": 3,
     "metadata": {},
     "output_type": "execute_result"
    }
   ],
   "source": [
    "len(x)"
   ],
   "metadata": {
    "collapsed": false,
    "ExecuteTime": {
     "end_time": "2023-10-22T09:26:14.729594300Z",
     "start_time": "2023-10-22T09:26:14.663628500Z"
    }
   },
   "id": "d9d86a999d80ef11"
  },
  {
   "cell_type": "code",
   "execution_count": 4,
   "outputs": [
    {
     "data": {
      "text/plain": "(3,)"
     },
     "execution_count": 4,
     "metadata": {},
     "output_type": "execute_result"
    }
   ],
   "source": [
    "x.shape"
   ],
   "metadata": {
    "collapsed": false,
    "ExecuteTime": {
     "end_time": "2023-10-22T09:26:17.734187200Z",
     "start_time": "2023-10-22T09:26:17.702188300Z"
    }
   },
   "id": "d7e4db33dd01fcd4"
  },
  {
   "cell_type": "code",
   "execution_count": 5,
   "outputs": [
    {
     "data": {
      "text/plain": "numpy.ndarray"
     },
     "execution_count": 5,
     "metadata": {},
     "output_type": "execute_result"
    }
   ],
   "source": [
    "type(x)"
   ],
   "metadata": {
    "collapsed": false,
    "ExecuteTime": {
     "end_time": "2023-10-22T09:26:23.006799600Z",
     "start_time": "2023-10-22T09:26:22.945802400Z"
    }
   },
   "id": "c82f7039a5f22eae"
  },
  {
   "cell_type": "code",
   "execution_count": 6,
   "outputs": [
    {
     "data": {
      "text/plain": "25"
     },
     "execution_count": 6,
     "metadata": {},
     "output_type": "execute_result"
    }
   ],
   "source": [
    "x[0]"
   ],
   "metadata": {
    "collapsed": false,
    "ExecuteTime": {
     "end_time": "2023-10-22T09:26:29.389081Z",
     "start_time": "2023-10-22T09:26:29.284092100Z"
    }
   },
   "id": "7eb365d0c6280cb9"
  },
  {
   "cell_type": "code",
   "execution_count": 7,
   "outputs": [
    {
     "data": {
      "text/plain": "numpy.int32"
     },
     "execution_count": 7,
     "metadata": {},
     "output_type": "execute_result"
    }
   ],
   "source": [
    "type(x[0])"
   ],
   "metadata": {
    "collapsed": false,
    "ExecuteTime": {
     "end_time": "2023-10-22T09:26:37.809130500Z",
     "start_time": "2023-10-22T09:26:37.713122800Z"
    }
   },
   "id": "7ce7260dbebe8f8c"
  },
  {
   "cell_type": "markdown",
   "source": [
    "## Vector Transposing\n",
    "\n"
   ],
   "metadata": {
    "collapsed": false
   },
   "id": "664f9040ec71de0d"
  },
  {
   "cell_type": "code",
   "execution_count": 8,
   "outputs": [
    {
     "data": {
      "text/plain": "array([25,  2,  5])"
     },
     "execution_count": 8,
     "metadata": {},
     "output_type": "execute_result"
    }
   ],
   "source": [
    "# Transposing a regular 1-D array has no effect...\n",
    "\n",
    "# The reason for this is because a regular 1-D array where we specify just with one set of brackets is neither a row nor a column vector.\n",
    "\n",
    "# There is no second dimension to transpose into.\n",
    "\n",
    "x_t = x.T\n",
    "x_t"
   ],
   "metadata": {
    "collapsed": false,
    "ExecuteTime": {
     "end_time": "2023-10-22T09:29:08.737759Z",
     "start_time": "2023-10-22T09:29:08.691740900Z"
    }
   },
   "id": "18e896b89d11fb8a"
  },
  {
   "cell_type": "code",
   "execution_count": 9,
   "outputs": [
    {
     "data": {
      "text/plain": "(3,)"
     },
     "execution_count": 9,
     "metadata": {},
     "output_type": "execute_result"
    }
   ],
   "source": [
    "x_t.shape"
   ],
   "metadata": {
    "collapsed": false,
    "ExecuteTime": {
     "end_time": "2023-10-22T09:29:23.439635900Z",
     "start_time": "2023-10-22T09:29:23.372620100Z"
    }
   },
   "id": "42edfc5e899bafd"
  },
  {
   "cell_type": "code",
   "execution_count": 10,
   "outputs": [
    {
     "data": {
      "text/plain": "array([[25,  2,  5]])"
     },
     "execution_count": 10,
     "metadata": {},
     "output_type": "execute_result"
    }
   ],
   "source": [
    "#... but it does when we use nested \"matrix-style\" brackets. By adding extra brackets, we are creating a nested array, which is a 2-D array.\n",
    "\n",
    "# The reason for this is because a nested array is a 2-D array, and so it has two dimensions to transpose between.\n",
    "\n",
    "y= np.array([[25, 2, 5]])\n",
    "y\n"
   ],
   "metadata": {
    "collapsed": false,
    "ExecuteTime": {
     "end_time": "2023-10-22T09:30:20.692729400Z",
     "start_time": "2023-10-22T09:30:20.654725800Z"
    }
   },
   "id": "cb62137771f73373"
  },
  {
   "cell_type": "code",
   "execution_count": 11,
   "outputs": [
    {
     "data": {
      "text/plain": "(1, 3)"
     },
     "execution_count": 11,
     "metadata": {},
     "output_type": "execute_result"
    }
   ],
   "source": [
    "y.shape"
   ],
   "metadata": {
    "collapsed": false,
    "ExecuteTime": {
     "end_time": "2023-10-22T09:30:30.167912800Z",
     "start_time": "2023-10-22T09:30:30.100917Z"
    }
   },
   "id": "7aa6a696120d202b"
  },
  {
   "cell_type": "code",
   "execution_count": 12,
   "outputs": [
    {
     "data": {
      "text/plain": "array([[25],\n       [ 2],\n       [ 5]])"
     },
     "execution_count": 12,
     "metadata": {},
     "output_type": "execute_result"
    }
   ],
   "source": [
    "y_t = y.T\n",
    "y_t"
   ],
   "metadata": {
    "collapsed": false,
    "ExecuteTime": {
     "end_time": "2023-10-22T09:30:38.244121100Z",
     "start_time": "2023-10-22T09:30:38.189090200Z"
    }
   },
   "id": "d7b3c302647e695f"
  },
  {
   "cell_type": "code",
   "execution_count": 13,
   "outputs": [
    {
     "data": {
      "text/plain": "(3, 1)"
     },
     "execution_count": 13,
     "metadata": {},
     "output_type": "execute_result"
    }
   ],
   "source": [
    "y_t.shape"
   ],
   "metadata": {
    "collapsed": false,
    "ExecuteTime": {
     "end_time": "2023-10-22T09:30:40.684616200Z",
     "start_time": "2023-10-22T09:30:40.645611800Z"
    }
   },
   "id": "19d36c373f40018c"
  },
  {
   "cell_type": "code",
   "execution_count": 15,
   "outputs": [
    {
     "data": {
      "text/plain": "array([[25,  2,  5]])"
     },
     "execution_count": 15,
     "metadata": {},
     "output_type": "execute_result"
    }
   ],
   "source": [
    "# We can also transpose back to the original vector.\n",
    "\n",
    "y_t_t = y_t.T\n",
    "y_t_t"
   ],
   "metadata": {
    "collapsed": false,
    "ExecuteTime": {
     "end_time": "2023-10-22T09:31:26.494366Z",
     "start_time": "2023-10-22T09:31:26.473383Z"
    }
   },
   "id": "bd3993bca56a404a"
  },
  {
   "cell_type": "markdown",
   "source": [
    "# Zero Vectors\n"
   ],
   "metadata": {
    "collapsed": false
   },
   "id": "377d1808c6cccd0d"
  },
  {
   "cell_type": "code",
   "execution_count": 16,
   "outputs": [
    {
     "data": {
      "text/plain": "array([0., 0., 0.])"
     },
     "execution_count": 16,
     "metadata": {},
     "output_type": "execute_result"
    }
   ],
   "source": [
    "z = np.zeros(3)\n",
    "z"
   ],
   "metadata": {
    "collapsed": false,
    "ExecuteTime": {
     "end_time": "2023-10-22T09:32:32.183076200Z",
     "start_time": "2023-10-22T09:32:32.062524600Z"
    }
   },
   "id": "34a7f88f9355ddf7"
  },
  {
   "cell_type": "markdown",
   "source": [
    "## Vectors in Torch and TensorFlow"
   ],
   "metadata": {
    "collapsed": false
   },
   "id": "d76e8a18c4c47133"
  },
  {
   "cell_type": "code",
   "execution_count": 17,
   "outputs": [],
   "source": [
    "import torch\n",
    "import tensorflow as tf\n"
   ],
   "metadata": {
    "collapsed": false,
    "ExecuteTime": {
     "end_time": "2023-10-22T09:33:19.136483600Z",
     "start_time": "2023-10-22T09:33:10.181952900Z"
    }
   },
   "id": "85e8d753d4b72df6"
  },
  {
   "cell_type": "code",
   "execution_count": 18,
   "outputs": [
    {
     "data": {
      "text/plain": "tensor([25,  2,  5])"
     },
     "execution_count": 18,
     "metadata": {},
     "output_type": "execute_result"
    }
   ],
   "source": [
    "x_torch = torch.tensor([25, 2, 5])\n",
    "x_torch"
   ],
   "metadata": {
    "collapsed": false,
    "ExecuteTime": {
     "end_time": "2023-10-22T09:33:28.218084Z",
     "start_time": "2023-10-22T09:33:28.149090600Z"
    }
   },
   "id": "4f6cc1a5af3f3c6c"
  },
  {
   "cell_type": "code",
   "execution_count": 19,
   "outputs": [
    {
     "data": {
      "text/plain": "<tf.Variable 'Variable:0' shape=(3,) dtype=int32, numpy=array([25,  2,  5])>"
     },
     "execution_count": 19,
     "metadata": {},
     "output_type": "execute_result"
    }
   ],
   "source": [
    "x_tf = tf.Variable([25, 2, 5])\n",
    "x_tf"
   ],
   "metadata": {
    "collapsed": false,
    "ExecuteTime": {
     "end_time": "2023-10-22T09:33:45.111051300Z",
     "start_time": "2023-10-22T09:33:44.987031400Z"
    }
   },
   "id": "3a3f1d7ae642e84"
  },
  {
   "cell_type": "code",
   "execution_count": null,
   "outputs": [],
   "source": [],
   "metadata": {
    "collapsed": false
   },
   "id": "c5c24a106a47acd6"
  }
 ],
 "metadata": {
  "kernelspec": {
   "display_name": "Python 3",
   "language": "python",
   "name": "python3"
  },
  "language_info": {
   "codemirror_mode": {
    "name": "ipython",
    "version": 2
   },
   "file_extension": ".py",
   "mimetype": "text/x-python",
   "name": "python",
   "nbconvert_exporter": "python",
   "pygments_lexer": "ipython2",
   "version": "2.7.6"
  }
 },
 "nbformat": 4,
 "nbformat_minor": 5
}
