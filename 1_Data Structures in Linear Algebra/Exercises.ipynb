{
 "cells": [
  {
   "cell_type": "markdown",
   "source": [
    "# EXERCISE\n",
    "\n",
    "1. Create a vector and take its tranpose.\n",
    "\n"
   ],
   "metadata": {
    "collapsed": false
   },
   "id": "4dfbbf32434abc0"
  },
  {
   "cell_type": "code",
   "execution_count": 6,
   "outputs": [
    {
     "data": {
      "text/plain": "array([[ 25,   2,  -3, -23]])"
     },
     "execution_count": 6,
     "metadata": {},
     "output_type": "execute_result"
    }
   ],
   "source": [
    "import numpy as np\n",
    "\n",
    "x_np = np.array([[25, 2, -3, -23]])\n",
    "x_np"
   ],
   "metadata": {
    "collapsed": false,
    "ExecuteTime": {
     "end_time": "2023-10-25T18:13:42.766827100Z",
     "start_time": "2023-10-25T18:13:42.729835100Z"
    }
   },
   "id": "860b499c1c14a3bb"
  },
  {
   "cell_type": "code",
   "execution_count": 7,
   "outputs": [
    {
     "data": {
      "text/plain": "array([[ 25],\n       [  2],\n       [ -3],\n       [-23]])"
     },
     "execution_count": 7,
     "metadata": {},
     "output_type": "execute_result"
    }
   ],
   "source": [
    "# transpose\n",
    "\n",
    "x_np.T"
   ],
   "metadata": {
    "collapsed": false,
    "ExecuteTime": {
     "end_time": "2023-10-25T18:13:46.145609400Z",
     "start_time": "2023-10-25T18:13:46.127508600Z"
    }
   },
   "id": "741a8743ba58ea9c"
  },
  {
   "cell_type": "code",
   "execution_count": 8,
   "outputs": [
    {
     "data": {
      "text/plain": "tensor([[ 25,   2,  -3, -23]])"
     },
     "execution_count": 8,
     "metadata": {},
     "output_type": "execute_result"
    }
   ],
   "source": [
    "import torch\n",
    "\n",
    "x = torch.tensor([[25, 2, -3, -23]])\n",
    "x  "
   ],
   "metadata": {
    "collapsed": false,
    "ExecuteTime": {
     "end_time": "2023-10-25T18:14:03.118795900Z",
     "start_time": "2023-10-25T18:13:59.274843800Z"
    }
   },
   "id": "ed4f9a8481ac1db0"
  },
  {
   "cell_type": "code",
   "execution_count": 9,
   "outputs": [
    {
     "data": {
      "text/plain": "tensor([[ 25],\n        [  2],\n        [ -3],\n        [-23]])"
     },
     "execution_count": 9,
     "metadata": {},
     "output_type": "execute_result"
    }
   ],
   "source": [
    "# transpose\n",
    "\n",
    "x.T"
   ],
   "metadata": {
    "collapsed": false,
    "ExecuteTime": {
     "end_time": "2023-10-25T18:14:03.980584800Z",
     "start_time": "2023-10-25T18:14:03.916782900Z"
    }
   },
   "id": "50e7f7f0a1f614d1"
  },
  {
   "cell_type": "code",
   "execution_count": 10,
   "outputs": [
    {
     "data": {
      "text/plain": "<tf.Variable 'Variable:0' shape=(1, 4) dtype=int32, numpy=array([[ 25,   2,  -3, -23]])>"
     },
     "execution_count": 10,
     "metadata": {},
     "output_type": "execute_result"
    }
   ],
   "source": [
    "import tensorflow as tf\n",
    "\n",
    "x_tf = tf.Variable([[25, 2, -3, -23]])\n",
    "x_tf"
   ],
   "metadata": {
    "collapsed": false,
    "ExecuteTime": {
     "end_time": "2023-10-25T18:14:43.643267400Z",
     "start_time": "2023-10-25T18:14:35.475921400Z"
    }
   },
   "id": "739015a03d89b916"
  },
  {
   "cell_type": "code",
   "execution_count": 13,
   "outputs": [
    {
     "data": {
      "text/plain": "<tf.Tensor: shape=(4, 1), dtype=int32, numpy=\narray([[ 25],\n       [  2],\n       [ -3],\n       [-23]])>"
     },
     "execution_count": 13,
     "metadata": {},
     "output_type": "execute_result"
    }
   ],
   "source": [
    "# transpose\n",
    "x_tft = tf.transpose(x_tf)\n",
    "x_tft"
   ],
   "metadata": {
    "collapsed": false,
    "ExecuteTime": {
     "end_time": "2023-10-25T18:15:07.004766200Z",
     "start_time": "2023-10-25T18:15:06.953721500Z"
    }
   },
   "id": "b1efe76b751e3ec0"
  },
  {
   "cell_type": "markdown",
   "source": [
    "# EXERCISE\n",
    "\n",
    "2-) What are the dimensions of the following tensor?\n",
    "\n"
   ],
   "metadata": {
    "collapsed": false
   },
   "id": "a2474f6ad4f9b335"
  },
  {
   "cell_type": "code",
   "execution_count": 14,
   "outputs": [
    {
     "data": {
      "text/plain": "array([[ 42,   4,   7,  99],\n       [-99,  -3,  17,  22]])"
     },
     "execution_count": 14,
     "metadata": {},
     "output_type": "execute_result"
    }
   ],
   "source": [
    "import numpy as np\n",
    "\n",
    "y_np = np.array([[42, 4, 7, 99], [-99, -3, 17, 22]])\n",
    "y_np"
   ],
   "metadata": {
    "collapsed": false,
    "ExecuteTime": {
     "end_time": "2023-10-25T18:17:03.078003800Z",
     "start_time": "2023-10-25T18:17:03.038984800Z"
    }
   },
   "id": "6bcd931e41338043"
  },
  {
   "cell_type": "code",
   "execution_count": 15,
   "outputs": [
    {
     "data": {
      "text/plain": "(2, 4)"
     },
     "execution_count": 15,
     "metadata": {},
     "output_type": "execute_result"
    }
   ],
   "source": [
    "y_np.shape"
   ],
   "metadata": {
    "collapsed": false,
    "ExecuteTime": {
     "end_time": "2023-10-25T18:17:08.619786500Z",
     "start_time": "2023-10-25T18:17:08.508799400Z"
    }
   },
   "id": "46d0e42ec981314c"
  },
  {
   "cell_type": "code",
   "execution_count": 21,
   "outputs": [
    {
     "data": {
      "text/plain": "tensor([[ 42,   4,   7,  99],\n        [-99,  -3,  17,  22]])"
     },
     "execution_count": 21,
     "metadata": {},
     "output_type": "execute_result"
    }
   ],
   "source": [
    "import torch\n",
    "\n",
    "y = torch.tensor([[42, 4, 7, 99], [-99, -3, 17, 22]])\n",
    "y\n"
   ],
   "metadata": {
    "collapsed": false,
    "ExecuteTime": {
     "end_time": "2023-10-25T18:18:15.539721700Z",
     "start_time": "2023-10-25T18:18:15.523723500Z"
    }
   },
   "id": "3bb928f49baf3e86"
  },
  {
   "cell_type": "code",
   "execution_count": 22,
   "outputs": [
    {
     "data": {
      "text/plain": "torch.Size([2, 4])"
     },
     "execution_count": 22,
     "metadata": {},
     "output_type": "execute_result"
    }
   ],
   "source": [
    "y.shape"
   ],
   "metadata": {
    "collapsed": false,
    "ExecuteTime": {
     "end_time": "2023-10-25T18:18:26.070618100Z",
     "start_time": "2023-10-25T18:18:26.040594700Z"
    }
   },
   "id": "b01ab2c350a8a4c1"
  },
  {
   "cell_type": "code",
   "execution_count": 23,
   "outputs": [
    {
     "data": {
      "text/plain": "<tf.Variable 'Variable:0' shape=(2, 4) dtype=int32, numpy=\narray([[ 42,   4,   7,  99],\n       [-99,  -3,  17,  22]])>"
     },
     "execution_count": 23,
     "metadata": {},
     "output_type": "execute_result"
    }
   ],
   "source": [
    "import tensorflow as tf\n",
    "\n",
    "y_tf = tf.Variable([[42, 4, 7, 99], [-99, -3, 17, 22]])\n",
    "y_tf"
   ],
   "metadata": {
    "collapsed": false,
    "ExecuteTime": {
     "end_time": "2023-10-25T18:18:30.831701200Z",
     "start_time": "2023-10-25T18:18:30.773706800Z"
    }
   },
   "id": "c608cd15dbf9ce8c"
  },
  {
   "cell_type": "code",
   "execution_count": 24,
   "outputs": [
    {
     "data": {
      "text/plain": "TensorShape([2, 4])"
     },
     "execution_count": 24,
     "metadata": {},
     "output_type": "execute_result"
    }
   ],
   "source": [
    "y_tf.shape"
   ],
   "metadata": {
    "collapsed": false,
    "ExecuteTime": {
     "end_time": "2023-10-25T18:18:34.298089400Z",
     "start_time": "2023-10-25T18:18:34.232036800Z"
    }
   },
   "id": "7bdd8c7824424f64"
  },
  {
   "cell_type": "markdown",
   "source": [
    "# EXERCISE\n",
    "\n",
    "3- What is the position of the element in y matrix with the value 17? "
   ],
   "metadata": {
    "collapsed": false
   },
   "id": "8f58e9e99ff1de78"
  },
  {
   "cell_type": "code",
   "execution_count": 25,
   "outputs": [
    {
     "data": {
      "text/plain": "array([[ 42,   4,   7,  99],\n       [-99,  -3,  17,  22]])"
     },
     "execution_count": 25,
     "metadata": {},
     "output_type": "execute_result"
    }
   ],
   "source": [
    "import numpy as np\n",
    "\n",
    "y_np = np.array([[42, 4, 7, 99], [-99, -3, 17, 22]])\n",
    "\n",
    "y_np"
   ],
   "metadata": {
    "collapsed": false,
    "ExecuteTime": {
     "end_time": "2023-10-25T18:19:25.555473100Z",
     "start_time": "2023-10-25T18:19:25.534507300Z"
    }
   },
   "id": "d04debe47b230010"
  },
  {
   "cell_type": "code",
   "execution_count": 26,
   "outputs": [
    {
     "data": {
      "text/plain": "17"
     },
     "execution_count": 26,
     "metadata": {},
     "output_type": "execute_result"
    }
   ],
   "source": [
    "y_np[1,2]"
   ],
   "metadata": {
    "collapsed": false,
    "ExecuteTime": {
     "end_time": "2023-10-25T18:19:29.444676Z",
     "start_time": "2023-10-25T18:19:29.384671200Z"
    }
   },
   "id": "57bec0c2990159c8"
  },
  {
   "cell_type": "code",
   "execution_count": 27,
   "outputs": [
    {
     "data": {
      "text/plain": "tensor([[ 42,   4,   7,  99],\n        [-99,  -3,  17,  22]])"
     },
     "execution_count": 27,
     "metadata": {},
     "output_type": "execute_result"
    }
   ],
   "source": [
    "import torch\n",
    "\n",
    "y = torch.tensor([[42, 4, 7, 99], [-99, -3, 17, 22]])\n",
    "y"
   ],
   "metadata": {
    "collapsed": false,
    "ExecuteTime": {
     "end_time": "2023-10-25T18:19:35.552361Z",
     "start_time": "2023-10-25T18:19:35.488344200Z"
    }
   },
   "id": "d45ed64693539b6b"
  },
  {
   "cell_type": "code",
   "execution_count": 28,
   "outputs": [
    {
     "data": {
      "text/plain": "tensor(17)"
     },
     "execution_count": 28,
     "metadata": {},
     "output_type": "execute_result"
    }
   ],
   "source": [
    "y[1,2]"
   ],
   "metadata": {
    "collapsed": false,
    "ExecuteTime": {
     "end_time": "2023-10-25T18:19:41.049294100Z",
     "start_time": "2023-10-25T18:19:41.015460600Z"
    }
   },
   "id": "f9afcc36122993dd"
  },
  {
   "cell_type": "code",
   "execution_count": 30,
   "outputs": [
    {
     "data": {
      "text/plain": "<tf.Variable 'Variable:0' shape=(2, 4) dtype=int32, numpy=\narray([[ 42,   4,   7,  99],\n       [-99,  -3,  17,  22]])>"
     },
     "execution_count": 30,
     "metadata": {},
     "output_type": "execute_result"
    }
   ],
   "source": [
    "import tensorflow as tf\n",
    "\n",
    "y_tf = tf.Variable([[42, 4, 7, 99], [-99, -3, 17, 22]])\n",
    "y_tf"
   ],
   "metadata": {
    "collapsed": false,
    "ExecuteTime": {
     "end_time": "2023-10-25T18:19:49.106225400Z",
     "start_time": "2023-10-25T18:19:49.020256400Z"
    }
   },
   "id": "4a7e7f2940806e79"
  },
  {
   "cell_type": "code",
   "execution_count": 31,
   "outputs": [
    {
     "data": {
      "text/plain": "<tf.Tensor: shape=(), dtype=int32, numpy=17>"
     },
     "execution_count": 31,
     "metadata": {},
     "output_type": "execute_result"
    }
   ],
   "source": [
    "y_tf[1,2]"
   ],
   "metadata": {
    "collapsed": false,
    "ExecuteTime": {
     "end_time": "2023-10-25T18:19:52.663621500Z",
     "start_time": "2023-10-25T18:19:52.591643100Z"
    }
   },
   "id": "8a46108a7f41064c"
  },
  {
   "cell_type": "code",
   "execution_count": null,
   "outputs": [],
   "source": [],
   "metadata": {
    "collapsed": false
   },
   "id": "5fe24a009095c4e7"
  }
 ],
 "metadata": {
  "kernelspec": {
   "display_name": "Python 3",
   "language": "python",
   "name": "python3"
  },
  "language_info": {
   "codemirror_mode": {
    "name": "ipython",
    "version": 2
   },
   "file_extension": ".py",
   "mimetype": "text/x-python",
   "name": "python",
   "nbconvert_exporter": "python",
   "pygments_lexer": "ipython2",
   "version": "2.7.6"
  }
 },
 "nbformat": 4,
 "nbformat_minor": 5
}
