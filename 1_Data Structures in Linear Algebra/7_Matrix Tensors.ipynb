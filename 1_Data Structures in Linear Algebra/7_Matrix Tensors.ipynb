{
 "cells": [
  {
   "cell_type": "markdown",
   "source": [
    "# MATRIX TENSORS\n",
    "\n",
    "A matrix is a two dimensional array of numbers. \n",
    "\n",
    "$$\n",
    "\\begin{bmatrix}\n",
    "x_{11} & x_{12} \\\\\n",
    "x_{21} & x_{22} \\\\\n",
    "x_{31} & x_{32} \\\\\n",
    "\\end{bmatrix}\n",
    "$$\n",
    "\n"
   ],
   "metadata": {
    "collapsed": false
   },
   "id": "fae33e2d969b488f"
  },
  {
   "cell_type": "markdown",
   "source": [
    "# Matrices (Rank 2 Tensors) in Numpy"
   ],
   "metadata": {
    "collapsed": false
   },
   "id": "f741b1e31ece6564"
  },
  {
   "cell_type": "code",
   "execution_count": 16,
   "outputs": [
    {
     "data": {
      "text/plain": "array([[25,  2],\n       [ 5, 26],\n       [ 3,  7]])"
     },
     "execution_count": 16,
     "metadata": {},
     "output_type": "execute_result"
    }
   ],
   "source": [
    "import numpy as np\n",
    "# We use numpy arrays (np.array) with nested brackets to represent matrices.\n",
    "\n",
    "X = np.array([[25,2],[5,26],[3,7]])\n",
    "X"
   ],
   "metadata": {
    "collapsed": false,
    "ExecuteTime": {
     "end_time": "2023-10-25T07:54:54.832725600Z",
     "start_time": "2023-10-25T07:54:54.782983100Z"
    }
   },
   "id": "9890a2b1b8a211b1"
  },
  {
   "cell_type": "code",
   "execution_count": 17,
   "outputs": [
    {
     "data": {
      "text/plain": "(3, 2)"
     },
     "execution_count": 17,
     "metadata": {},
     "output_type": "execute_result"
    }
   ],
   "source": [
    "X.shape"
   ],
   "metadata": {
    "collapsed": false,
    "ExecuteTime": {
     "end_time": "2023-10-25T07:54:54.870853700Z",
     "start_time": "2023-10-25T07:54:54.850780100Z"
    }
   },
   "id": "b0de03e98f7250e3"
  },
  {
   "cell_type": "code",
   "execution_count": 18,
   "outputs": [
    {
     "data": {
      "text/plain": "6"
     },
     "execution_count": 18,
     "metadata": {},
     "output_type": "execute_result"
    }
   ],
   "source": [
    "X.size"
   ],
   "metadata": {
    "collapsed": false,
    "ExecuteTime": {
     "end_time": "2023-10-25T07:54:54.905055400Z",
     "start_time": "2023-10-25T07:54:54.872847700Z"
    }
   },
   "id": "2d860a1c6f00b857"
  },
  {
   "cell_type": "code",
   "execution_count": 19,
   "outputs": [
    {
     "data": {
      "text/plain": "array([25,  5,  3])"
     },
     "execution_count": 19,
     "metadata": {},
     "output_type": "execute_result"
    }
   ],
   "source": [
    "# Select left column of matrix X\n",
    "\n",
    "X[:,0]"
   ],
   "metadata": {
    "collapsed": false,
    "ExecuteTime": {
     "end_time": "2023-10-25T07:54:54.981073300Z",
     "start_time": "2023-10-25T07:54:54.898060200Z"
    }
   },
   "id": "e4068808ded5751a"
  },
  {
   "cell_type": "code",
   "execution_count": 20,
   "outputs": [
    {
     "data": {
      "text/plain": "array([ 5, 26])"
     },
     "execution_count": 20,
     "metadata": {},
     "output_type": "execute_result"
    }
   ],
   "source": [
    "# Select middle row of matrix X\n",
    "\n",
    "X[1,:]"
   ],
   "metadata": {
    "collapsed": false,
    "ExecuteTime": {
     "end_time": "2023-10-25T07:54:54.984078800Z",
     "start_time": "2023-10-25T07:54:54.931335200Z"
    }
   },
   "id": "b1a671d4884d9d4f"
  },
  {
   "cell_type": "markdown",
   "source": [
    "# Matrices in PyTorch"
   ],
   "metadata": {
    "collapsed": false
   },
   "id": "e34affbbfa6b3b9"
  },
  {
   "cell_type": "code",
   "execution_count": 21,
   "outputs": [
    {
     "data": {
      "text/plain": "tensor([[25,  2],\n        [ 5, 26],\n        [ 3,  7]])"
     },
     "execution_count": 21,
     "metadata": {},
     "output_type": "execute_result"
    }
   ],
   "source": [
    "import torch\n",
    "\n",
    "X_pytorch = torch.tensor([[25,2],[5,26],[3,7]])\n",
    "X_pytorch"
   ],
   "metadata": {
    "collapsed": false,
    "ExecuteTime": {
     "end_time": "2023-10-25T07:54:55.068453700Z",
     "start_time": "2023-10-25T07:54:54.966925500Z"
    }
   },
   "id": "e2d38ddadba35143"
  },
  {
   "cell_type": "code",
   "execution_count": 22,
   "outputs": [
    {
     "data": {
      "text/plain": "torch.Size([3, 2])"
     },
     "execution_count": 22,
     "metadata": {},
     "output_type": "execute_result"
    }
   ],
   "source": [
    "X_pytorch.shape"
   ],
   "metadata": {
    "collapsed": false,
    "ExecuteTime": {
     "end_time": "2023-10-25T07:54:55.165126Z",
     "start_time": "2023-10-25T07:54:55.080632100Z"
    }
   },
   "id": "1209aa98aeff5397"
  },
  {
   "cell_type": "code",
   "execution_count": 23,
   "outputs": [
    {
     "data": {
      "text/plain": "tensor([ 5, 26])"
     },
     "execution_count": 23,
     "metadata": {},
     "output_type": "execute_result"
    }
   ],
   "source": [
    "X_pytorch[1,:]"
   ],
   "metadata": {
    "collapsed": false,
    "ExecuteTime": {
     "end_time": "2023-10-25T07:54:55.168143900Z",
     "start_time": "2023-10-25T07:54:55.105931800Z"
    }
   },
   "id": "8824f9c16b339853"
  },
  {
   "cell_type": "markdown",
   "source": [
    "# Matrices in TensorFlow"
   ],
   "metadata": {
    "collapsed": false
   },
   "id": "d5176d0aee744b48"
  },
  {
   "cell_type": "code",
   "execution_count": 24,
   "outputs": [],
   "source": [
    "import tensorflow as tf"
   ],
   "metadata": {
    "collapsed": false,
    "ExecuteTime": {
     "end_time": "2023-10-25T07:54:55.171138600Z",
     "start_time": "2023-10-25T07:54:55.138155300Z"
    }
   },
   "id": "db657673fd88e011"
  },
  {
   "cell_type": "code",
   "execution_count": 25,
   "outputs": [
    {
     "data": {
      "text/plain": "<tf.Variable 'Variable:0' shape=(3, 2) dtype=int32, numpy=\narray([[25,  2],\n       [ 5, 26],\n       [ 3,  7]])>"
     },
     "execution_count": 25,
     "metadata": {},
     "output_type": "execute_result"
    }
   ],
   "source": [
    "X_tf = tf.Variable([[25,2],[5,26],[3,7]])\n",
    "X_tf"
   ],
   "metadata": {
    "collapsed": false,
    "ExecuteTime": {
     "end_time": "2023-10-25T07:54:55.326452400Z",
     "start_time": "2023-10-25T07:54:55.171138600Z"
    }
   },
   "id": "f52339edc3548c7"
  },
  {
   "cell_type": "code",
   "execution_count": 26,
   "outputs": [
    {
     "data": {
      "text/plain": "<tf.Tensor: shape=(), dtype=int32, numpy=2>"
     },
     "execution_count": 26,
     "metadata": {},
     "output_type": "execute_result"
    }
   ],
   "source": [
    "tf.rank(X_tf)\n",
    "\n",
    "# numpy 0 scalar. \n",
    "# numpy 1 is vector\n",
    "# numpy 2 is matrix"
   ],
   "metadata": {
    "collapsed": false,
    "ExecuteTime": {
     "end_time": "2023-10-25T07:54:55.405522200Z",
     "start_time": "2023-10-25T07:54:55.318910500Z"
    }
   },
   "id": "ecc388dc4246f490"
  },
  {
   "cell_type": "code",
   "execution_count": 27,
   "outputs": [
    {
     "data": {
      "text/plain": "<tf.Tensor: shape=(2,), dtype=int32, numpy=array([3, 2])>"
     },
     "execution_count": 27,
     "metadata": {},
     "output_type": "execute_result"
    }
   ],
   "source": [
    "tf.shape(X_tf)"
   ],
   "metadata": {
    "collapsed": false,
    "ExecuteTime": {
     "end_time": "2023-10-25T07:54:55.429219500Z",
     "start_time": "2023-10-25T07:54:55.362195200Z"
    }
   },
   "id": "c355c3db0ee25ff9"
  },
  {
   "cell_type": "code",
   "execution_count": 28,
   "outputs": [
    {
     "data": {
      "text/plain": "<tf.Tensor: shape=(2,), dtype=int32, numpy=array([ 5, 26])>"
     },
     "execution_count": 28,
     "metadata": {},
     "output_type": "execute_result"
    }
   ],
   "source": [
    "X_tf[1,:]"
   ],
   "metadata": {
    "collapsed": false,
    "ExecuteTime": {
     "end_time": "2023-10-25T07:54:55.442780600Z",
     "start_time": "2023-10-25T07:54:55.383898600Z"
    }
   },
   "id": "facf05f10aa31d6b"
  }
 ],
 "metadata": {
  "kernelspec": {
   "display_name": "Python 3",
   "language": "python",
   "name": "python3"
  },
  "language_info": {
   "codemirror_mode": {
    "name": "ipython",
    "version": 2
   },
   "file_extension": ".py",
   "mimetype": "text/x-python",
   "name": "python",
   "nbconvert_exporter": "python",
   "pygments_lexer": "ipython2",
   "version": "2.7.6"
  }
 },
 "nbformat": 4,
 "nbformat_minor": 5
}
