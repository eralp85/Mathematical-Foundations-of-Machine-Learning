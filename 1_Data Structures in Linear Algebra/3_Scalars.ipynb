{
 "cells": [
  {
   "cell_type": "markdown",
   "source": [
    "# Scalers (Rank 0 Tensors)\n",
    "\n",
    "Scalers are characterized by having no dimension, so they are a single numeric value.\n",
    "\n",
    "They are typically denoted in lowercase, italic: \n",
    "\n"
   ],
   "metadata": {
    "collapsed": false
   },
   "id": "b4c43c2e71c414a"
  },
  {
   "cell_type": "code",
   "execution_count": 8,
   "outputs": [
    {
     "data": {
      "text/plain": "25"
     },
     "execution_count": 8,
     "metadata": {},
     "output_type": "execute_result"
    }
   ],
   "source": [
    "# Rank 0 tensor (scaler)\n",
    "\n",
    "x = 25 \n",
    "x "
   ],
   "metadata": {
    "collapsed": false,
    "ExecuteTime": {
     "end_time": "2023-10-21T20:18:35.949948900Z",
     "start_time": "2023-10-21T20:18:35.904513600Z"
    }
   },
   "id": "d9f3bcdeb090dda8"
  },
  {
   "cell_type": "code",
   "execution_count": 2,
   "outputs": [
    {
     "data": {
      "text/plain": "int"
     },
     "execution_count": 2,
     "metadata": {},
     "output_type": "execute_result"
    }
   ],
   "source": [
    "type(x)"
   ],
   "metadata": {
    "collapsed": false,
    "ExecuteTime": {
     "end_time": "2023-10-21T20:14:28.058345400Z",
     "start_time": "2023-10-21T20:14:27.973751500Z"
    }
   },
   "id": "b4885a5b42c41933"
  },
  {
   "cell_type": "code",
   "execution_count": 3,
   "outputs": [],
   "source": [
    "y = 3"
   ],
   "metadata": {
    "collapsed": false,
    "ExecuteTime": {
     "end_time": "2023-10-21T20:15:00.007859400Z",
     "start_time": "2023-10-21T20:14:59.960806Z"
    }
   },
   "id": "19ef0abf40f73e66"
  },
  {
   "cell_type": "code",
   "execution_count": 4,
   "outputs": [
    {
     "data": {
      "text/plain": "28"
     },
     "execution_count": 4,
     "metadata": {},
     "output_type": "execute_result"
    }
   ],
   "source": [
    "py_sum = x + y\n",
    "py_sum"
   ],
   "metadata": {
    "collapsed": false,
    "ExecuteTime": {
     "end_time": "2023-10-21T20:15:15.394894300Z",
     "start_time": "2023-10-21T20:15:15.329330700Z"
    }
   },
   "id": "14e8d42c91e74f39"
  },
  {
   "cell_type": "code",
   "execution_count": 5,
   "outputs": [
    {
     "data": {
      "text/plain": "int"
     },
     "execution_count": 5,
     "metadata": {},
     "output_type": "execute_result"
    }
   ],
   "source": [
    "type(py_sum)"
   ],
   "metadata": {
    "collapsed": false,
    "ExecuteTime": {
     "end_time": "2023-10-21T20:15:27.159357300Z",
     "start_time": "2023-10-21T20:15:27.008241800Z"
    }
   },
   "id": "4ddd8c6d447bde5b"
  },
  {
   "cell_type": "code",
   "execution_count": 6,
   "outputs": [
    {
     "data": {
      "text/plain": "28.0"
     },
     "execution_count": 6,
     "metadata": {},
     "output_type": "execute_result"
    }
   ],
   "source": [
    "x_float = 25.0\n",
    "float_sum = x_float + y\n",
    "float_sum"
   ],
   "metadata": {
    "collapsed": false,
    "ExecuteTime": {
     "end_time": "2023-10-21T20:16:36.684749700Z",
     "start_time": "2023-10-21T20:16:36.614333Z"
    }
   },
   "id": "c98c8837dab0bcd3"
  },
  {
   "cell_type": "code",
   "execution_count": 7,
   "outputs": [
    {
     "data": {
      "text/plain": "float"
     },
     "execution_count": 7,
     "metadata": {},
     "output_type": "execute_result"
    }
   ],
   "source": [
    "type(float_sum) \n",
    "\n",
    "# integer + float gives float."
   ],
   "metadata": {
    "collapsed": false,
    "ExecuteTime": {
     "end_time": "2023-10-21T20:16:48.584838900Z",
     "start_time": "2023-10-21T20:16:48.521267700Z"
    }
   },
   "id": "c39f3f0cb8baebf9"
  },
  {
   "cell_type": "markdown",
   "source": [
    "# Scalars in PyTorch\n",
    "\n",
    "PyTorch tensors are designed to be pythonic to feel and behave like NumPy arrays.\n",
    "\n",
    "PyTorch is a Python library and does something called automatic differentiation. \n",
    "\n",
    "The advantage of PyTorch tensors relative to Numpy arrays is that they are easily used for operations on GPU. "
   ],
   "metadata": {
    "collapsed": false
   },
   "id": "481b2ddd66ef45ee"
  },
  {
   "cell_type": "code",
   "execution_count": 9,
   "outputs": [],
   "source": [
    "import torch"
   ],
   "metadata": {
    "collapsed": false,
    "ExecuteTime": {
     "end_time": "2023-10-21T20:39:31.909411400Z",
     "start_time": "2023-10-21T20:39:28.544327100Z"
    }
   },
   "id": "848a3334aaf52886"
  },
  {
   "cell_type": "code",
   "execution_count": 11,
   "outputs": [
    {
     "data": {
      "text/plain": "tensor(25)"
     },
     "execution_count": 11,
     "metadata": {},
     "output_type": "execute_result"
    }
   ],
   "source": [
    "x_pytorch = torch.tensor(25)\n",
    "x_pytorch"
   ],
   "metadata": {
    "collapsed": false,
    "ExecuteTime": {
     "end_time": "2023-10-21T20:40:04.985140600Z",
     "start_time": "2023-10-21T20:40:04.917990400Z"
    }
   },
   "id": "5fb5ce77f54ddc3d"
  },
  {
   "cell_type": "code",
   "execution_count": 12,
   "outputs": [
    {
     "data": {
      "text/plain": "torch.Size([])"
     },
     "execution_count": 12,
     "metadata": {},
     "output_type": "execute_result"
    }
   ],
   "source": [
    "# It has no dimensions.\n",
    "\n",
    "x_pytorch.shape\n"
   ],
   "metadata": {
    "collapsed": false,
    "ExecuteTime": {
     "end_time": "2023-10-21T20:40:19.906850Z",
     "start_time": "2023-10-21T20:40:19.811311300Z"
    }
   },
   "id": "cf50d4a7c8ce30be"
  },
  {
   "cell_type": "markdown",
   "source": [
    "# Scalars in TensorFlow\n",
    "\n",
    "Tensors created with a wrapper. \n",
    "\n",
    "Most widely-used is tf.Variable"
   ],
   "metadata": {
    "collapsed": false
   },
   "id": "baee9641f2f61a77"
  },
  {
   "cell_type": "code",
   "execution_count": 13,
   "outputs": [],
   "source": [
    "import tensorflow as tf"
   ],
   "metadata": {
    "collapsed": false,
    "ExecuteTime": {
     "end_time": "2023-10-21T21:00:09.613046400Z",
     "start_time": "2023-10-21T21:00:01.464261Z"
    }
   },
   "id": "a92e9cafbf59cd4b"
  },
  {
   "cell_type": "code",
   "execution_count": 14,
   "outputs": [
    {
     "data": {
      "text/plain": "<tf.Variable 'Variable:0' shape=() dtype=int16, numpy=25>"
     },
     "execution_count": 14,
     "metadata": {},
     "output_type": "execute_result"
    }
   ],
   "source": [
    "x_tensorflow = tf.Variable(25, dtype=tf.int16)\n",
    "x_tensorflow"
   ],
   "metadata": {
    "collapsed": false,
    "ExecuteTime": {
     "end_time": "2023-10-21T21:00:56.725725600Z",
     "start_time": "2023-10-21T21:00:56.598395900Z"
    }
   },
   "id": "6d5ddc03d939d84e"
  },
  {
   "cell_type": "code",
   "execution_count": 15,
   "outputs": [
    {
     "data": {
      "text/plain": "TensorShape([])"
     },
     "execution_count": 15,
     "metadata": {},
     "output_type": "execute_result"
    }
   ],
   "source": [
    "x_tensorflow.shape"
   ],
   "metadata": {
    "collapsed": false,
    "ExecuteTime": {
     "end_time": "2023-10-21T21:01:15.076985700Z",
     "start_time": "2023-10-21T21:01:15.011978Z"
    }
   },
   "id": "760c082d75162a11"
  },
  {
   "cell_type": "code",
   "execution_count": 16,
   "outputs": [],
   "source": [
    "y_tensorflow = tf.Variable(3 , dtype=tf.int16)"
   ],
   "metadata": {
    "collapsed": false,
    "ExecuteTime": {
     "end_time": "2023-10-21T21:01:52.480578200Z",
     "start_time": "2023-10-21T21:01:52.457559400Z"
    }
   },
   "id": "834d970fca0bb7a6"
  },
  {
   "cell_type": "code",
   "execution_count": 17,
   "outputs": [
    {
     "data": {
      "text/plain": "<tf.Tensor: shape=(), dtype=int16, numpy=28>"
     },
     "execution_count": 17,
     "metadata": {},
     "output_type": "execute_result"
    }
   ],
   "source": [
    "x_tensorflow + y_tensorflow"
   ],
   "metadata": {
    "collapsed": false,
    "ExecuteTime": {
     "end_time": "2023-10-21T21:02:02.420438Z",
     "start_time": "2023-10-21T21:02:02.348047500Z"
    }
   },
   "id": "326256d525c19d34"
  },
  {
   "cell_type": "code",
   "execution_count": 18,
   "outputs": [
    {
     "data": {
      "text/plain": "<tf.Tensor: shape=(), dtype=int16, numpy=28>"
     },
     "execution_count": 18,
     "metadata": {},
     "output_type": "execute_result"
    }
   ],
   "source": [
    "tf_sum = tf.add(x_tensorflow, y_tensorflow)\n",
    "tf_sum"
   ],
   "metadata": {
    "collapsed": false,
    "ExecuteTime": {
     "end_time": "2023-10-21T21:02:53.400930500Z",
     "start_time": "2023-10-21T21:02:53.375920100Z"
    }
   },
   "id": "759a10745edb2867"
  },
  {
   "cell_type": "code",
   "execution_count": 19,
   "outputs": [
    {
     "data": {
      "text/plain": "28"
     },
     "execution_count": 19,
     "metadata": {},
     "output_type": "execute_result"
    }
   ],
   "source": [
    "tf_sum.numpy()"
   ],
   "metadata": {
    "collapsed": false,
    "ExecuteTime": {
     "end_time": "2023-10-21T21:03:02.692094800Z",
     "start_time": "2023-10-21T21:03:02.630063900Z"
    }
   },
   "id": "5c5b67369b0fc097"
  },
  {
   "cell_type": "code",
   "execution_count": 20,
   "outputs": [
    {
     "data": {
      "text/plain": "numpy.int16"
     },
     "execution_count": 20,
     "metadata": {},
     "output_type": "execute_result"
    }
   ],
   "source": [
    "type(tf_sum.numpy())"
   ],
   "metadata": {
    "collapsed": false,
    "ExecuteTime": {
     "end_time": "2023-10-21T21:03:26.509232500Z",
     "start_time": "2023-10-21T21:03:26.441484200Z"
    }
   },
   "id": "fe8288e9ead16b2"
  },
  {
   "cell_type": "code",
   "execution_count": 21,
   "outputs": [
    {
     "data": {
      "text/plain": "<tf.Variable 'Variable:0' shape=() dtype=float16, numpy=25.0>"
     },
     "execution_count": 21,
     "metadata": {},
     "output_type": "execute_result"
    }
   ],
   "source": [
    "tf_float = tf.Variable(25, dtype=tf.float16)\n",
    "tf_float"
   ],
   "metadata": {
    "collapsed": false,
    "ExecuteTime": {
     "end_time": "2023-10-21T21:04:27.280371400Z",
     "start_time": "2023-10-21T21:04:27.196893Z"
    }
   },
   "id": "4642656125522263"
  },
  {
   "cell_type": "code",
   "execution_count": null,
   "outputs": [],
   "source": [],
   "metadata": {
    "collapsed": false
   },
   "id": "6bea98f044e934c9"
  }
 ],
 "metadata": {
  "kernelspec": {
   "display_name": "Python 3",
   "language": "python",
   "name": "python3"
  },
  "language_info": {
   "codemirror_mode": {
    "name": "ipython",
    "version": 2
   },
   "file_extension": ".py",
   "mimetype": "text/x-python",
   "name": "python",
   "nbconvert_exporter": "python",
   "pygments_lexer": "ipython2",
   "version": "2.7.6"
  }
 },
 "nbformat": 4,
 "nbformat_minor": 5
}
